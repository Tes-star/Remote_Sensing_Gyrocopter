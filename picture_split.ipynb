{
 "cells": [
  {
   "cell_type": "code",
   "execution_count": 1,
   "outputs": [
    {
     "data": {
      "text/plain": "{'divide': 'warn', 'over': 'warn', 'under': 'ignore', 'invalid': 'warn'}"
     },
     "execution_count": 1,
     "metadata": {},
     "output_type": "execute_result"
    }
   ],
   "source": [
    "# Import Modules\n",
    "\n",
    "from glob import glob\n",
    "\n",
    "import earthpy as et\n",
    "import earthpy.spatial as es\n",
    "import earthpy.plot as ep\n",
    "\n",
    "import rasterio as rio\n",
    "# from rasterio.plot import plotting_extent\n",
    "# from rasterio.plot import show\n",
    "# from rasterio.plot import reshape_as_raster, reshape_as_image\n",
    "\n",
    "import matplotlib.pyplot as plt\n",
    "import numpy as np\n",
    "from matplotlib.colors import ListedColormap\n",
    "from spectral import *\n",
    "import os\n",
    "import tifffile\n",
    "\n",
    "\n",
    "\n",
    "import plotly.graph_objects as go\n",
    "\n",
    "np.seterr(divide='ignore', invalid='ignore')"
   ],
   "metadata": {
    "collapsed": false,
    "pycharm": {
     "name": "#%%\n"
    }
   }
  },
  {
   "cell_type": "code",
   "execution_count": 2,
   "outputs": [],
   "source": [
    "import spectral.io.envi as envi\n",
    "from find_path_nextcloud import find_path_nextcloud"
   ],
   "metadata": {
    "collapsed": false,
    "pycharm": {
     "name": "#%%\n"
    }
   }
  },
  {
   "cell_type": "code",
   "execution_count": 3,
   "outputs": [],
   "source": [
    "\n",
    "path_nextcloud = find_path_nextcloud()\n",
    "path_folder = path_nextcloud + 'Daten_Gyrocopter/Dessau/Hyperspektral/'\n",
    "\n",
    "\n",
    "path_hdr = path_folder + 'Dessau_unsigned_mosaik_all.hdr'\n",
    "path_dat =  path_folder + 'Dessau_unsigned_mosaik_all.dat'\n",
    "\n",
    "img = envi.open(file=path_hdr, image=path_dat)"
   ],
   "metadata": {
    "collapsed": false,
    "pycharm": {
     "name": "#%%\n"
    }
   }
  },
  {
   "cell_type": "code",
   "execution_count": 5,
   "outputs": [
    {
     "data": {
      "text/plain": "\tData Source:   'C:/Users/fgrassxx/Nextcloud/Master_Data_Science/2_Semester/Projekt_Data_Science_1_SS22/Daten_Gyrocopter/Dessau/Hyperspektral/Dessau_unsigned_mosaik_all.dat'\n\t# Rows:          10211\n\t# Samples:        9454\n\t# Bands:            80\n\tInterleave:        BSQ\n\tQuantization:  16 bits\n\tData format:    uint16"
     },
     "execution_count": 5,
     "metadata": {},
     "output_type": "execute_result"
    }
   ],
   "source": [
    "img"
   ],
   "metadata": {
    "collapsed": false,
    "pycharm": {
     "name": "#%%\n"
    }
   }
  },
  {
   "cell_type": "code",
   "execution_count": 7,
   "metadata": {
    "collapsed": true
   },
   "outputs": [],
   "source": [
    "\n",
    "filename=r'Dessau_unsigned_mosaik_all.tif'\n",
    "# dir_in=r'C:\\Users\\fgrassxx\\Nextcloud\\Master_Data_Science\\2_Semester\\Projekt_Data_Science_1_SS22\\Daten_Gyrocopter\\Dessau\\Hyperspektral'\n",
    "dir_out=r'C:\\Users\\fgrassxx\\Desktop\\Dessau_Hyperspektral'\n",
    "\n",
    "name, ext = os.path.splitext(filename)\n",
    "# img = tifffile.imread(os.path.join(dir_in, filename))\n",
    "\n",
    "windowsize_r = 300\n",
    "windowsize_c = 300\n",
    "coordX=306984.850\n",
    "coordY=5749110.050\n",
    "i = 0\n",
    "a=img.shape"
   ]
  },
  {
   "cell_type": "code",
   "execution_count": 11,
   "outputs": [
    {
     "name": "stdout",
     "output_type": "stream",
     "text": [
      "0/9154\n",
      "300/9154\n",
      "600/9154\n",
      "900/9154\n",
      "1200/9154\n",
      "1500/9154\n",
      "1800/9154\n",
      "2100/9154\n",
      "2400/9154\n",
      "2700/9154\n",
      "3000/9154\n",
      "3300/9154\n",
      "3600/9154\n",
      "3900/9154\n",
      "4200/9154\n",
      "4500/9154\n",
      "4800/9154\n",
      "5100/9154\n",
      "5400/9154\n",
      "5700/9154\n",
      "6000/9154\n",
      "6300/9154\n",
      "6600/9154\n",
      "6900/9154\n",
      "7200/9154\n",
      "7500/9154\n",
      "7800/9154\n",
      "8100/9154\n",
      "8400/9154\n",
      "8700/9154\n",
      "9000/9154\n"
     ]
    }
   ],
   "source": [
    "\n",
    "for r in range(0, img.shape[1] - windowsize_r, windowsize_r):\n",
    "    print(str(r)+\"/\"+str(img.shape[1] - windowsize_r))"
   ],
   "metadata": {
    "collapsed": false,
    "pycharm": {
     "name": "#%%\n"
    }
   }
  },
  {
   "cell_type": "code",
   "execution_count": 12,
   "outputs": [],
   "source": [
    "    for c in range(0, img.shape[2] - windowsize_c, windowsize_c):\n",
    "\n",
    "\n",
    "\n",
    "        window = img[0:80,r:r + windowsize_r, c:c + windowsize_c]\n",
    "        out = os.path.join(dir_out, f'{name}_{i}_{coordX+r*3}_{coordY+c*3}_{ext}')\n",
    "        'leere Bereiche nicht abspeichern'\n",
    "        if i==0:\n",
    "            BlackSqaure=window\n",
    "        if (window!=BlackSqaure).all():\n",
    "            tifffile.imsave(out, window,photometric ='miniswhite',planarconfig=2 )\n",
    "        i = i + 1"
   ],
   "metadata": {
    "collapsed": false,
    "pycharm": {
     "name": "#%%\n"
    }
   }
  },
  {
   "cell_type": "code",
   "execution_count": null,
   "outputs": [],
   "source": [
    "tifffile.imsave(out, window,photometric ='miniswhite',planarconfig=2,metadata={'XPosition':306984,'YPosition':5749110})"
   ],
   "metadata": {
    "collapsed": false,
    "pycharm": {
     "name": "#%%#\n"
    }
   }
  },
  {
   "cell_type": "code",
   "execution_count": 13,
   "outputs": [],
   "source": [
    "img=0"
   ],
   "metadata": {
    "collapsed": false,
    "pycharm": {
     "name": "#%%\n"
    }
   }
  },
  {
   "cell_type": "code",
   "execution_count": 5,
   "outputs": [],
   "source": [
    "\n",
    "from PIL import Image\n",
    "from itertools import product\n",
    "\n",
    "\n",
    "def tile(filename, dir_in, dir_out, d):\n",
    "    name, ext = os.path.splitext(filename)\n",
    "    img = Image.open(os.path.join(dir_in, filename))\n",
    "    w, h = img.size\n",
    "\n",
    "    grid = product(range(0, h-h%d, d), range(0, w-w%d, d))\n",
    "    for i, j in grid:\n",
    "        box = (j, i, j+d, i+d)\n",
    "        out = os.path.join(dir_out, f'{name}_{i}_{j}{ext}')\n",
    "        img.crop(box).save(out)"
   ],
   "metadata": {
    "collapsed": false,
    "pycharm": {
     "name": "#%%\n"
    }
   }
  },
  {
   "cell_type": "code",
   "execution_count": 8,
   "outputs": [],
   "source": [
    "tile(filename='Felix_92.jpg', dir_in=path_nextcloud, dir_out=path_nextcloud, d= 1000)"
   ],
   "metadata": {
    "collapsed": false,
    "pycharm": {
     "name": "#%%\n"
    }
   }
  },
  {
   "cell_type": "code",
   "execution_count": 6,
   "outputs": [],
   "source": [
    "filename='Felix_92.jpg'\n",
    "dir_in=path_nextcloud\n",
    "img = Image.open(os.path.join(dir_in, filename))\n"
   ],
   "metadata": {
    "collapsed": false,
    "pycharm": {
     "name": "#%%\n"
    }
   }
  },
  {
   "cell_type": "code",
   "execution_count": 7,
   "outputs": [
    {
     "data": {
      "text/plain": "(4928, 3264)"
     },
     "execution_count": 7,
     "metadata": {},
     "output_type": "execute_result"
    }
   ],
   "source": [
    "img.size"
   ],
   "metadata": {
    "collapsed": false,
    "pycharm": {
     "name": "#%%\n"
    }
   }
  },
  {
   "cell_type": "code",
   "execution_count": null,
   "outputs": [],
   "source": [],
   "metadata": {
    "collapsed": false,
    "pycharm": {
     "name": "#%%\n"
    }
   }
  }
 ],
 "metadata": {
  "kernelspec": {
   "display_name": "Python 3",
   "language": "python",
   "name": "python3"
  },
  "language_info": {
   "codemirror_mode": {
    "name": "ipython",
    "version": 2
   },
   "file_extension": ".py",
   "mimetype": "text/x-python",
   "name": "python",
   "nbconvert_exporter": "python",
   "pygments_lexer": "ipython2",
   "version": "2.7.6"
  }
 },
 "nbformat": 4,
 "nbformat_minor": 0
}