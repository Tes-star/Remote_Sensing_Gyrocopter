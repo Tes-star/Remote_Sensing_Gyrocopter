{
 "cells": [
  {
   "cell_type": "code",
   "execution_count": 1,
   "metadata": {
    "collapsed": true
   },
   "outputs": [],
   "source": [
    "import os\n",
    "import tifffile\n"
   ]
  },
  {
   "cell_type": "code",
   "execution_count": 2,
   "outputs": [],
   "source": [
    "filename=r'Dessau_unsigned_mosaik_all.tif'\n",
    "dir_in=r'C:\\Users\\fgrassxx\\Nextcloud\\Master_Data_Science\\2_Semester\\Projekt_Data_Science_1_SS22\\Daten_Gyrocopter\\Dessau\\Hyperspektral'\n",
    "dir_out=r'C:\\Users\\fgrassxx\\Desktop\\Dessau_Hyperspektral'\n",
    "\n",
    "name, ext = os.path.splitext(filename)\n",
    "img = tifffile.imread(os.path.join(dir_in, filename))"
   ],
   "metadata": {
    "collapsed": false,
    "pycharm": {
     "name": "#%%\n"
    }
   }
  },
  {
   "cell_type": "code",
   "execution_count": 3,
   "outputs": [],
   "source": [
    "windowsize_r = 300\n",
    "windowsize_c = 300\n",
    "coordX=306984.850\n",
    "coordY=5749110.050\n",
    "i = 0\n",
    "a=img.shape"
   ],
   "metadata": {
    "collapsed": false,
    "pycharm": {
     "name": "#%%\n"
    }
   }
  },
  {
   "cell_type": "code",
   "execution_count": null,
   "outputs": [],
   "source": [
    "for r in range(0, img.shape[1] - windowsize_r, windowsize_r):\n",
    "    print(str(r)+\"/\"+str(img.shape[1] - windowsize_r))\n",
    "    for c in range(0, img.shape[2] - windowsize_c, windowsize_c):\n",
    "\n",
    "\n",
    "\n",
    "        window = img[0:80,r:r + windowsize_r, c:c + windowsize_c]\n",
    "        out = os.path.join(dir_out, f'{name}_{i}_{coordX+r*3}_{coordY+c*3}_{ext}')\n",
    "        'leere Bereiche nicht abspeichern'\n",
    "        if i==0:\n",
    "            BlackSqaure=window\n",
    "        if (window!=BlackSqaure).all():\n",
    "            tifffile.imsave(out, window,photometric ='miniswhite',planarconfig=2 )\n",
    "        i = i + 1"
   ],
   "metadata": {
    "collapsed": false,
    "pycharm": {
     "name": "#%%\n"
    }
   }
  },
  {
   "cell_type": "code",
   "execution_count": 7,
   "outputs": [],
   "source": [
    "tifffile.imsave(out, window,photometric ='miniswhite',planarconfig=2,metadata={'XPosition':306984,'YPosition':5749110})"
   ],
   "metadata": {
    "collapsed": false,
    "pycharm": {
     "name": "#%%#\n"
    }
   }
  },
  {
   "cell_type": "code",
   "execution_count": 5,
   "outputs": [],
   "source": [
    "img=0"
   ],
   "metadata": {
    "collapsed": false,
    "pycharm": {
     "name": "#%%\n"
    }
   }
  },
  {
   "cell_type": "code",
   "execution_count": null,
   "outputs": [],
   "source": [],
   "metadata": {
    "collapsed": false,
    "pycharm": {
     "name": "#%%\n"
    }
   }
  }
 ],
 "metadata": {
  "kernelspec": {
   "display_name": "Python 3",
   "language": "python",
   "name": "python3"
  },
  "language_info": {
   "codemirror_mode": {
    "name": "ipython",
    "version": 2
   },
   "file_extension": ".py",
   "mimetype": "text/x-python",
   "name": "python",
   "nbconvert_exporter": "python",
   "pygments_lexer": "ipython2",
   "version": "2.7.6"
  }
 },
 "nbformat": 4,
 "nbformat_minor": 0
}