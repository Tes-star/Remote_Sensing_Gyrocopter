{
 "cells": [
  {
   "cell_type": "code",
   "execution_count": null,
   "metadata": {
    "pycharm": {
     "name": "#%%\n",
     "is_executing": true
    }
   },
   "outputs": [
    {
     "name": "stdout",
     "output_type": "stream",
     "text": [
      "Segmentation Models: using `keras` framework.\n",
      "W&B offline, running your script from this directory will only write metadata locally.\n"
     ]
    },
    {
     "name": "stderr",
     "output_type": "stream",
     "text": [
      "\u001B[34m\u001B[1mwandb\u001B[0m: Agent Starting Run: rxt6go4e with config:\n",
      "\u001B[34m\u001B[1mwandb\u001B[0m: \tactivation: sigmoid\n",
      "\u001B[34m\u001B[1mwandb\u001B[0m: \taug_brightness_hard: 0.20026725415182817\n",
      "\u001B[34m\u001B[1mwandb\u001B[0m: \taug_brightness_light: 0.03844379898291614\n",
      "\u001B[34m\u001B[1mwandb\u001B[0m: \taug_brightness_middle: 0.16239307339764242\n",
      "\u001B[34m\u001B[1mwandb\u001B[0m: \taug_contrast_hard: 0.26028373111085057\n",
      "\u001B[34m\u001B[1mwandb\u001B[0m: \taug_contrast_light: 0.08008362003874105\n",
      "\u001B[34m\u001B[1mwandb\u001B[0m: \taug_contrast_middle: 0.1981182839453537\n",
      "\u001B[34m\u001B[1mwandb\u001B[0m: \taug_dropout_hard: 0.07959482670787017\n",
      "\u001B[34m\u001B[1mwandb\u001B[0m: \taug_dropout_light: 0.0319651978472993\n",
      "\u001B[34m\u001B[1mwandb\u001B[0m: \taug_dropout_middle: 0.1770342855342152\n",
      "\u001B[34m\u001B[1mwandb\u001B[0m: \taug_noise_hard: 0.006082588009718159\n",
      "\u001B[34m\u001B[1mwandb\u001B[0m: \taug_noise_light: 0.007017315926709677\n",
      "\u001B[34m\u001B[1mwandb\u001B[0m: \taug_noise_middle: 0.14209193669580053\n",
      "\u001B[34m\u001B[1mwandb\u001B[0m: \tbackbone: efficientnetb3\n",
      "\u001B[34m\u001B[1mwandb\u001B[0m: \tband_dist: 7\n",
      "\u001B[34m\u001B[1mwandb\u001B[0m: \tbatch_size: 10\n",
      "\u001B[34m\u001B[1mwandb\u001B[0m: \tencoder_freeze: True\n",
      "\u001B[34m\u001B[1mwandb\u001B[0m: \tlearning_rate: 6.2925056296195e-05\n",
      "\u001B[34m\u001B[1mwandb\u001B[0m: \tloss: DiceLoss\n"
     ]
    },
    {
     "data": {
      "text/plain": "<IPython.core.display.HTML object>",
      "text/html": "Tracking run with wandb version 0.12.20"
     },
     "metadata": {},
     "output_type": "display_data"
    },
    {
     "data": {
      "text/plain": "<IPython.core.display.HTML object>",
      "text/html": "W&B syncing is set to <code>`offline`<code> in this directory.  <br/>Run <code>`wandb online`<code> or set <code>WANDB_MODE=online<code> to enable cloud syncing."
     },
     "metadata": {},
     "output_type": "display_data"
    },
    {
     "name": "stderr",
     "output_type": "stream",
     "text": [
      "c:\\users\\vdwti\\pycharmprojects\\pds_gyrocopter\\venv\\lib\\site-packages\\keras_applications\\imagenet_utils.py:276: UserWarning: This model usually expects 1 or 3 input channels. However, it was passed an input_shape with 19 input channels.\n",
      "  warnings.warn(\n",
      "\u001B[34m\u001B[1mwandb\u001B[0m: \u001B[33mWARNING\u001B[0m The save_model argument by default saves the model in the HDF5 format that cannot save custom objects like subclassed models and custom layers. This behavior will be deprecated in a future release in favor of the SavedModel format. Meanwhile, the HDF5 model is saved as W&B files and the SavedModel as W&B Artifacts.\n"
     ]
    },
    {
     "name": "stdout",
     "output_type": "stream",
     "text": [
      "Epoch 1/2\n",
      "4/4 [==============================] - 55s 12s/step - loss: 0.8138 - categorical_accuracy: 0.1386 - val_loss: 0.8082 - val_categorical_accuracy: 0.0759 - _timestamp: 1657051359.0000 - _runtime: 77.0000\n",
      "Epoch 2/2\n",
      "4/4 [==============================] - 41s 10s/step - loss: 0.8107 - categorical_accuracy: 0.1600 - val_loss: 0.8079 - val_categorical_accuracy: 0.2666 - _timestamp: 1657051400.0000 - _runtime: 118.0000\n",
      "3/3 [==============================] - 10s 2s/step\n",
      "1/1 [==============================] - 1s 768ms/step\n"
     ]
    },
    {
     "name": "stderr",
     "output_type": "stream",
     "text": [
      "c:\\users\\vdwti\\pycharmprojects\\pds_gyrocopter\\venv\\lib\\site-packages\\numpy\\lib\\arraysetops.py:604: FutureWarning: elementwise comparison failed; returning scalar instead, but in the future will perform elementwise comparison\n",
      "  mask &= (ar1 != a)\n"
     ]
    },
    {
     "data": {
      "text/plain": "<IPython.core.display.HTML object>",
      "text/html": "Waiting for W&B process to finish... <strong style=\"color:red\">(failed 1).</strong>"
     },
     "metadata": {},
     "output_type": "display_data"
    },
    {
     "data": {
      "text/plain": "VBox(children=(Label(value='0.000 MB of 0.000 MB uploaded (0.000 MB deduped)\\r'), FloatProgress(value=1.0, max…",
      "application/vnd.jupyter.widget-view+json": {
       "version_major": 2,
       "version_minor": 0,
       "model_id": "e970f163f3f34f61a08ff5b1b7811109"
      }
     },
     "metadata": {},
     "output_type": "display_data"
    },
    {
     "data": {
      "text/plain": "<IPython.core.display.HTML object>",
      "text/html": "<style>\n    table.wandb td:nth-child(1) { padding: 0 10px; text-align: left ; width: auto;} td:nth-child(2) {text-align: left ; width: 100%}\n    .wandb-row { display: flex; flex-direction: row; flex-wrap: wrap; justify-content: flex-start; width: 100% }\n    .wandb-col { display: flex; flex-direction: column; flex-basis: 100%; flex: 1; padding: 10px; }\n    </style>\n<div class=\"wandb-row\"><div class=\"wandb-col\"><h3>Run history:</h3><br/><table class=\"wandb\"><tr><td>categorical_accuracy</td><td>▁█</td></tr><tr><td>epoch</td><td>▁█</td></tr><tr><td>loss</td><td>█▁</td></tr><tr><td>val_categorical_accuracy</td><td>▁█</td></tr><tr><td>val_loss</td><td>█▁</td></tr></table><br/></div><div class=\"wandb-col\"><h3>Run summary:</h3><br/><table class=\"wandb\"><tr><td>best_epoch</td><td>1</td></tr><tr><td>best_val_loss</td><td>0.80788</td></tr><tr><td>categorical_accuracy</td><td>0.16003</td></tr><tr><td>epoch</td><td>1</td></tr><tr><td>loss</td><td>0.81073</td></tr><tr><td>val_categorical_accuracy</td><td>0.26659</td></tr><tr><td>val_loss</td><td>0.80788</td></tr></table><br/></div></div>"
     },
     "metadata": {},
     "output_type": "display_data"
    },
    {
     "data": {
      "text/plain": "<IPython.core.display.HTML object>",
      "text/html": "You can sync this run to the cloud by running:<br/><code>wandb sync C:\\Users\\vdwti\\PycharmProjects\\pds_gyrocopter\\Modelling\\Timo_CNN\\wandb\\offline-run-20220705_220121-rxt6go4e<code>"
     },
     "metadata": {},
     "output_type": "display_data"
    },
    {
     "data": {
      "text/plain": "<IPython.core.display.HTML object>",
      "text/html": "Find logs at: <code>.\\Modelling\\Timo_CNN\\wandb\\offline-run-20220705_220121-rxt6go4e\\logs</code>"
     },
     "metadata": {},
     "output_type": "display_data"
    },
    {
     "name": "stderr",
     "output_type": "stream",
     "text": [
      "Run rxt6go4e errored: TypeError(\"ufunc 'isnan' not supported for the input types, and the inputs could not be safely coerced to any supported types according to the casting rule ''safe''\")\n",
      "\u001B[34m\u001B[1mwandb\u001B[0m: \u001B[32m\u001B[41mERROR\u001B[0m Run rxt6go4e errored: TypeError(\"ufunc 'isnan' not supported for the input types, and the inputs could not be safely coerced to any supported types according to the casting rule ''safe''\")\n",
      "\u001B[34m\u001B[1mwandb\u001B[0m: Sweep Agent: Waiting for job.\n",
      "\u001B[34m\u001B[1mwandb\u001B[0m: Job received.\n",
      "\u001B[34m\u001B[1mwandb\u001B[0m: Agent Starting Run: 2jutwnvm with config:\n",
      "\u001B[34m\u001B[1mwandb\u001B[0m: \tactivation: softmax\n",
      "\u001B[34m\u001B[1mwandb\u001B[0m: \taug_brightness_hard: 0.06694670530540937\n",
      "\u001B[34m\u001B[1mwandb\u001B[0m: \taug_brightness_light: 0.01236930135848966\n",
      "\u001B[34m\u001B[1mwandb\u001B[0m: \taug_brightness_middle: 0.1295439064877786\n",
      "\u001B[34m\u001B[1mwandb\u001B[0m: \taug_contrast_hard: 0.12145105218573116\n",
      "\u001B[34m\u001B[1mwandb\u001B[0m: \taug_contrast_light: 0.0651553269110373\n",
      "\u001B[34m\u001B[1mwandb\u001B[0m: \taug_contrast_middle: 0.040761767740317416\n",
      "\u001B[34m\u001B[1mwandb\u001B[0m: \taug_dropout_hard: 0.06879541875517335\n",
      "\u001B[34m\u001B[1mwandb\u001B[0m: \taug_dropout_light: 0.006760644303707497\n",
      "\u001B[34m\u001B[1mwandb\u001B[0m: \taug_dropout_middle: 0.10723006449319206\n",
      "\u001B[34m\u001B[1mwandb\u001B[0m: \taug_noise_hard: 0.14827562090237476\n",
      "\u001B[34m\u001B[1mwandb\u001B[0m: \taug_noise_light: 0.06505675728752773\n",
      "\u001B[34m\u001B[1mwandb\u001B[0m: \taug_noise_middle: 0.10972643822405066\n",
      "\u001B[34m\u001B[1mwandb\u001B[0m: \tbackbone: efficientnetb3\n",
      "\u001B[34m\u001B[1mwandb\u001B[0m: \tband_dist: 4\n",
      "\u001B[34m\u001B[1mwandb\u001B[0m: \tbatch_size: 11\n",
      "\u001B[34m\u001B[1mwandb\u001B[0m: \tencoder_freeze: True\n",
      "\u001B[34m\u001B[1mwandb\u001B[0m: \tlearning_rate: 0.0009290721437236616\n",
      "\u001B[34m\u001B[1mwandb\u001B[0m: \tloss: DiceLoss\n",
      "\u001B[34m\u001B[1mwandb\u001B[0m: Currently logged in as: \u001B[33mvdwyenbergh\u001B[0m (\u001B[33mpds_project\u001B[0m). Use \u001B[1m`wandb login --relogin`\u001B[0m to force relogin\n",
      "c:\\users\\vdwti\\pycharmprojects\\pds_gyrocopter\\venv\\lib\\site-packages\\keras_applications\\imagenet_utils.py:276: UserWarning: This model usually expects 1 or 3 input channels. However, it was passed an input_shape with 30 input channels.\n",
      "  warnings.warn(\n"
     ]
    },
    {
     "name": "stdout",
     "output_type": "stream",
     "text": [
      "Epoch 1/2\n",
      "4/4 [==============================] - 54s 12s/step - loss: 0.8278 - categorical_accuracy: 0.3333 - val_loss: 0.8738 - val_categorical_accuracy: 0.2900 - _timestamp: 1657051513.0000 - _runtime: 85.0000\n",
      "Epoch 2/2\n",
      "4/4 [==============================] - 45s 10s/step - loss: 0.7394 - categorical_accuracy: 0.5163 - val_loss: 0.8804 - val_categorical_accuracy: 0.3510 - _timestamp: 1657051559.0000 - _runtime: 131.0000\n",
      "3/3 [==============================] - 11s 2s/step\n",
      "1/1 [==============================] - 1s 798ms/step\n"
     ]
    },
    {
     "name": "stderr",
     "output_type": "stream",
     "text": [
      "c:\\users\\vdwti\\pycharmprojects\\pds_gyrocopter\\venv\\lib\\site-packages\\numpy\\lib\\arraysetops.py:604: FutureWarning: elementwise comparison failed; returning scalar instead, but in the future will perform elementwise comparison\n",
      "  mask &= (ar1 != a)\n"
     ]
    }
   ],
   "source": [
    "import wandb\n",
    "from Modelling.Timo_CNN.Image_segmentations_sweep import cnn_sweep\n",
    "\"\"\"\n",
    "wenn Error 13 durch shutil.py ausgelöst wird Modell offline trainieren und sweep_upload_data.ipynb zusätzlich ausführen. Dann werden alle 20 Minuten die Ergebnisse manuell hochgeladen\n",
    "\"\"\"\n",
    "# upload offline data\n",
    "!wandb sync --sync-all\n",
    "\n",
    "# Train Model offline\n",
    "!wandb offline\n",
    "# aktiviert offline Modus\n",
    "\n",
    "# define sweep_id\n",
    "sweep_id = 'ovzbvxa7'\n",
    "# run the sweep\n",
    "wandb.agent(sweep_id, function=cnn_sweep, project=\"cnn_segmentation_models\", entity=\"pds_project\")"
   ]
  },
  {
   "cell_type": "code",
   "execution_count": null,
   "outputs": [],
   "source": [],
   "metadata": {
    "collapsed": false,
    "pycharm": {
     "name": "#%%\n"
    }
   }
  },
  {
   "cell_type": "code",
   "execution_count": null,
   "outputs": [],
   "source": [],
   "metadata": {
    "collapsed": false,
    "pycharm": {
     "name": "#%%\n"
    }
   }
  }
 ],
 "metadata": {
  "kernelspec": {
   "display_name": "Python 3 (ipykernel)",
   "language": "python",
   "name": "python3"
  },
  "language_info": {
   "codemirror_mode": {
    "name": "ipython",
    "version": 2
   },
   "file_extension": ".py",
   "mimetype": "text/x-python",
   "name": "python",
   "nbconvert_exporter": "python",
   "pygments_lexer": "ipython2",
   "version": "2.7.6"
  }
 },
 "nbformat": 4,
 "nbformat_minor": 1
}