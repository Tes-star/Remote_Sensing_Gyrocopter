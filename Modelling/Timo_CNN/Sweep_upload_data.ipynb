{
 "cells": [
  {
   "cell_type": "code",
   "execution_count": null,
   "outputs": [
    {
     "name": "stderr",
     "output_type": "stream",
     "text": [
      "wandb: WARNING .wandb file is incomplete (record checksum is invalid, data may be corrupt), be sure to sync this run again once it's finished\n"
     ]
    },
    {
     "name": "stdout",
     "output_type": "stream",
     "text": [
      "Syncing: https://wandb.ai/pds_project/cnn_segmentation_models/runs/2l7ftvrx ...done.\n",
      "Syncing: https://wandb.ai/pds_project/cnn_segmentation_models/runs/rbmt7tfo ...done.\n",
      "Syncing: https://wandb.ai/pds_project/cnn_segmentation_models/runs/ipnmepzn ...done.\n",
      "Syncing: https://wandb.ai/pds_project/cnn_segmentation_models/runs/4dxws6gz ...done.\n",
      "Syncing: https://wandb.ai/pds_project/cnn_segmentation_models/runs/33nteimo ...done.\n",
      "Syncing: https://wandb.ai/pds_project/cnn_segmentation_models/runs/23peakgj ...done.\n",
      "Syncing: https://wandb.ai/pds_project/cnn_segmentation_models/runs/6a764ijn ...done.\n",
      "Syncing: https://wandb.ai/pds_project/cnn_segmentation_models/runs/25c4ms5s ...done.\n"
     ]
    }
   ],
   "source": [
    "from datetime import datetime\n",
    "print('Start')\n",
    "wait_time=20.0*60\n",
    "import time\n",
    "starttime = time.time()\n",
    "while True:\n",
    "    time_tick=datetime.now()\n",
    "    !wandb sync --sync-all\n",
    "    time_next=datetime.now()\n",
    "    print(\"Upload finished \" +str(time_next.strftime(\"%H:%M:%S\"))+'    Dauer '+str((time_next-time_tick)))\n",
    "    time.sleep(wait_time)"
   ],
   "metadata": {
    "collapsed": false,
    "pycharm": {
     "name": "#%%\n",
     "is_executing": true
    }
   }
  },
  {
   "cell_type": "code",
   "execution_count": null,
   "outputs": [],
   "source": [],
   "metadata": {
    "collapsed": false,
    "pycharm": {
     "name": "#%%\n"
    }
   }
  }
 ],
 "metadata": {
  "kernelspec": {
   "display_name": "Python 3",
   "language": "python",
   "name": "python3"
  },
  "language_info": {
   "codemirror_mode": {
    "name": "ipython",
    "version": 2
   },
   "file_extension": ".py",
   "mimetype": "text/x-python",
   "name": "python",
   "nbconvert_exporter": "python",
   "pygments_lexer": "ipython2",
   "version": "2.7.6"
  }
 },
 "nbformat": 4,
 "nbformat_minor": 0
}