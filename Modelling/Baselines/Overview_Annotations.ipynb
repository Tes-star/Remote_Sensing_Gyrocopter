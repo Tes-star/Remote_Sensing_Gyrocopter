{
 "cells": [
  {
   "cell_type": "markdown",
   "source": [
    "# Überblick annotierter Bilder"
   ],
   "metadata": {
    "collapsed": false,
    "pycharm": {
     "name": "#%% md\n"
    }
   }
  },
  {
   "cell_type": "code",
   "execution_count": 17,
   "outputs": [],
   "source": [
    "# Import Packages\n",
    "from Code.find_path_nextcloud import find_path_nextcloud\n",
    "import matplotlib.pyplot as plt\n",
    "import spectral as spy\n",
    "import pandas as pd\n",
    "import numpy as np\n",
    "import os"
   ],
   "metadata": {
    "collapsed": false,
    "pycharm": {
     "name": "#%%\n"
    }
   }
  },
  {
   "cell_type": "code",
   "execution_count": 52,
   "outputs": [],
   "source": [
    "def isfloat(num):\n",
    "    try:\n",
    "        float(num)\n",
    "        return True\n",
    "    except ValueError:\n",
    "        return False"
   ],
   "metadata": {
    "collapsed": false,
    "pycharm": {
     "name": "#%%\n"
    }
   }
  },
  {
   "cell_type": "code",
   "execution_count": 57,
   "outputs": [],
   "source": [
    "def import_labeled_data():\n",
    "\n",
    "    # Pfad Nextcloud bestimmen\n",
    "    path_nextcloud = find_path_nextcloud()\n",
    "\n",
    "    # Festlegung, welches Grid zusammengelegt werden soll\n",
    "    windowsize_r = 200\n",
    "    windowsize_c = 200\n",
    "\n",
    "    # Bestimmung annotation_folder\n",
    "    grid_folder = path_nextcloud + \"Daten_Gyrocopter/Oldenburg/Teilbilder/grid_\" + str(windowsize_r) + \"_\" + str(windowsize_c)\n",
    "    labeled_folder = grid_folder + '/labeled/'\n",
    "\n",
    "    # Liste aller Dateien in annotation_folder erstellen\n",
    "    files = os.listdir(labeled_folder)\n",
    "\n",
    "    # Aus Liste files .hdr Dateien löschen\n",
    "    for file in files:\n",
    "        if not file.endswith('.dat'):\n",
    "            files.remove(file)\n",
    "\n",
    "    # Spaltennamen des DataFrames bilden\n",
    "    path_dat = labeled_folder + os.path.splitext(files[0])[0] + '.dat'\n",
    "    path_hdr = labeled_folder + os.path.splitext(files[0])[0] + '.hdr'\n",
    "\n",
    "    # load image\n",
    "    img = spy.envi.open(file=path_hdr, image=path_dat)\n",
    "\n",
    "    # convert only wavelength into dataframe and round numbers\n",
    "    value_bands = ['hsi_band_' + str(int(float(x))) + '_nm' for x in img.metadata['wavelength'] if isfloat(x)]\n",
    "    value_bands.extend(['thermal', 'dom'])\n",
    "\n",
    "    label_bands = ['None', 'Wiese', 'Straße', 'Auto', 'See', 'Schienen', 'Haus', 'Wald', 'label']\n",
    "\n",
    "    bands = []\n",
    "    bands.extend(value_bands)\n",
    "    bands.extend(label_bands)\n",
    "    bands.append('picture_name')\n",
    "\n",
    "    df_annotations = pd.DataFrame(columns=bands)\n",
    "\n",
    "    # labeled Bilder erstellen\n",
    "    for filename in files[:-1]:\n",
    "        path_dat = labeled_folder + os.path.splitext(filename)[0] + '.dat'\n",
    "        path_hdr = labeled_folder + os.path.splitext(filename)[0] + '.hdr'\n",
    "        img = spy.envi.open(file=path_hdr, image=path_dat)\n",
    "\n",
    "        arr = img.load()\n",
    "\n",
    "        df = pd.DataFrame(arr.reshape((40000, (arr.shape[2]))), columns=bands[:-1])\n",
    "        df['picture_name'] = os.path.splitext(filename)[0]\n",
    "\n",
    "        df_annotations = pd.concat([df_annotations, df], ignore_index=True)\n",
    "\n",
    "    return df_annotations\n"
   ],
   "metadata": {
    "collapsed": false,
    "pycharm": {
     "name": "#%%\n"
    }
   }
  },
  {
   "cell_type": "code",
   "execution_count": 58,
   "outputs": [],
   "source": [
    "df_annotations = import_labeled_data()"
   ],
   "metadata": {
    "collapsed": false,
    "pycharm": {
     "name": "#%%\n"
    }
   }
  },
  {
   "cell_type": "code",
   "execution_count": 59,
   "outputs": [
    {
     "data": {
      "text/plain": "(560000, 119)"
     },
     "execution_count": 59,
     "metadata": {},
     "output_type": "execute_result"
    }
   ],
   "source": [
    "df_annotations.shape"
   ],
   "metadata": {
    "collapsed": false,
    "pycharm": {
     "name": "#%%\n"
    }
   }
  },
  {
   "cell_type": "code",
   "execution_count": 60,
   "outputs": [
    {
     "data": {
      "text/plain": "Teilbild_Oldenburg_00000000_00000000_0_0_          40000\nTeilbild_Oldenburg_00000000_00000002_0_400_        40000\nTeilbild_Oldenburg_00000000_00000008_0_1600_       40000\nTeilbild_Oldenburg_00000000_00000009_0_1800_       40000\nTeilbild_Oldenburg_00000000_00000014_0_2800_       40000\nTeilbild_Oldenburg_00000000_00000015_0_3000_       40000\nTeilbild_Oldenburg_00000001_00000014_200_2800_     40000\nTeilbild_Oldenburg_00000001_00000016_200_3200_     40000\nTeilbild_Oldenburg_00000002_00000002_400_400_      40000\nTeilbild_Oldenburg_00000002_00000008_400_1600_     40000\nTeilbild_Oldenburg_00000006_00000010_1200_2000_    40000\nTeilbild_Oldenburg_00000007_00000008_1400_1600_    40000\nTeilbild_Oldenburg_00000008_00000005_1600_1000_    40000\nTeilbild_Oldenburg_00000008_00000010_1600_2000_    40000\nName: picture_name, dtype: int64"
     },
     "execution_count": 60,
     "metadata": {},
     "output_type": "execute_result"
    }
   ],
   "source": [
    "df_annotations['picture_name'].value_counts()"
   ],
   "metadata": {
    "collapsed": false,
    "pycharm": {
     "name": "#%%\n"
    }
   }
  },
  {
   "cell_type": "code",
   "execution_count": 61,
   "outputs": [
    {
     "data": {
      "text/plain": "(367012, 119)"
     },
     "execution_count": 61,
     "metadata": {},
     "output_type": "execute_result"
    }
   ],
   "source": [
    "df_objects = df_annotations.loc[df_annotations['label'] != 0, ]\n",
    "df_objects.shape"
   ],
   "metadata": {
    "collapsed": false,
    "pycharm": {
     "name": "#%%\n"
    }
   }
  },
  {
   "cell_type": "code",
   "execution_count": 62,
   "outputs": [
    {
     "data": {
      "text/plain": "0.6553785714285715"
     },
     "execution_count": 62,
     "metadata": {},
     "output_type": "execute_result"
    }
   ],
   "source": [
    "df_objects.shape[0] / df_annotations.shape[0]"
   ],
   "metadata": {
    "collapsed": false,
    "pycharm": {
     "name": "#%%\n"
    }
   }
  },
  {
   "cell_type": "code",
   "execution_count": 63,
   "outputs": [
    {
     "data": {
      "text/plain": "Teilbild_Oldenburg_00000008_00000010_1600_2000_    37119\nTeilbild_Oldenburg_00000008_00000005_1600_1000_    35665\nTeilbild_Oldenburg_00000000_00000009_0_1800_       33919\nTeilbild_Oldenburg_00000000_00000002_0_400_        32886\nTeilbild_Oldenburg_00000007_00000008_1400_1600_    31528\nTeilbild_Oldenburg_00000002_00000008_400_1600_     31054\nTeilbild_Oldenburg_00000000_00000000_0_0_          30655\nTeilbild_Oldenburg_00000000_00000014_0_2800_       23342\nTeilbild_Oldenburg_00000000_00000015_0_3000_       22489\nTeilbild_Oldenburg_00000001_00000014_200_2800_     21210\nTeilbild_Oldenburg_00000006_00000010_1200_2000_    20796\nTeilbild_Oldenburg_00000002_00000002_400_400_      20546\nTeilbild_Oldenburg_00000000_00000008_0_1600_       20323\nTeilbild_Oldenburg_00000001_00000016_200_3200_      5480\nName: picture_name, dtype: int64"
     },
     "execution_count": 63,
     "metadata": {},
     "output_type": "execute_result"
    }
   ],
   "source": [
    "df_objects['picture_name'].value_counts()"
   ],
   "metadata": {
    "collapsed": false,
    "pycharm": {
     "name": "#%%\n"
    }
   }
  },
  {
   "cell_type": "code",
   "execution_count": 65,
   "outputs": [],
   "source": [
    "w = df_objects.groupby(['label'], as_index=False).size()"
   ],
   "metadata": {
    "collapsed": false,
    "pycharm": {
     "name": "#%%\n"
    }
   }
  },
  {
   "cell_type": "code",
   "execution_count": 66,
   "outputs": [],
   "source": [
    "class_objects = {0:'None', 1: 'Wiese', 2: 'Straße', 3: 'Auto', 4: 'See', 5: 'Schienen', 6: 'Haus', 7: 'Wald'}"
   ],
   "metadata": {
    "collapsed": false,
    "pycharm": {
     "name": "#%%\n"
    }
   }
  },
  {
   "cell_type": "code",
   "execution_count": 68,
   "outputs": [],
   "source": [
    "w['label'] = w['label'].replace(class_objects)"
   ],
   "metadata": {
    "collapsed": false,
    "pycharm": {
     "name": "#%%\n"
    }
   }
  },
  {
   "cell_type": "code",
   "execution_count": 69,
   "outputs": [
    {
     "data": {
      "text/plain": "      label    size\n0     Wiese  111052\n1      Auto   10747\n2       See   14305\n3  Schienen    4634\n4      Haus  113564\n5      Wald  112710",
      "text/html": "<div>\n<style scoped>\n    .dataframe tbody tr th:only-of-type {\n        vertical-align: middle;\n    }\n\n    .dataframe tbody tr th {\n        vertical-align: top;\n    }\n\n    .dataframe thead th {\n        text-align: right;\n    }\n</style>\n<table border=\"1\" class=\"dataframe\">\n  <thead>\n    <tr style=\"text-align: right;\">\n      <th></th>\n      <th>label</th>\n      <th>size</th>\n    </tr>\n  </thead>\n  <tbody>\n    <tr>\n      <th>0</th>\n      <td>Wiese</td>\n      <td>111052</td>\n    </tr>\n    <tr>\n      <th>1</th>\n      <td>Auto</td>\n      <td>10747</td>\n    </tr>\n    <tr>\n      <th>2</th>\n      <td>See</td>\n      <td>14305</td>\n    </tr>\n    <tr>\n      <th>3</th>\n      <td>Schienen</td>\n      <td>4634</td>\n    </tr>\n    <tr>\n      <th>4</th>\n      <td>Haus</td>\n      <td>113564</td>\n    </tr>\n    <tr>\n      <th>5</th>\n      <td>Wald</td>\n      <td>112710</td>\n    </tr>\n  </tbody>\n</table>\n</div>"
     },
     "execution_count": 69,
     "metadata": {},
     "output_type": "execute_result"
    }
   ],
   "source": [
    "w"
   ],
   "metadata": {
    "collapsed": false,
    "pycharm": {
     "name": "#%%\n"
    }
   }
  },
  {
   "cell_type": "code",
   "execution_count": null,
   "outputs": [],
   "source": [],
   "metadata": {
    "collapsed": false,
    "pycharm": {
     "name": "#%%\n"
    }
   }
  }
 ],
 "metadata": {
  "kernelspec": {
   "display_name": "Python 3",
   "language": "python",
   "name": "python3"
  },
  "language_info": {
   "codemirror_mode": {
    "name": "ipython",
    "version": 2
   },
   "file_extension": ".py",
   "mimetype": "text/x-python",
   "name": "python",
   "nbconvert_exporter": "python",
   "pygments_lexer": "ipython2",
   "version": "2.7.6"
  }
 },
 "nbformat": 4,
 "nbformat_minor": 0
}