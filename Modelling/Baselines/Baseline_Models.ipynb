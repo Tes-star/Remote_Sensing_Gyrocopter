{
 "cells": [
  {
   "cell_type": "markdown",
   "source": [
    "# Baseline Models"
   ],
   "metadata": {
    "collapsed": false,
    "pycharm": {
     "name": "#%% md\n"
    }
   }
  },
  {
   "cell_type": "code",
   "execution_count": 7,
   "outputs": [],
   "source": [
    "# Import Packages\n",
    "from Code.find_path_nextcloud import find_path_nextcloud\n",
    "import matplotlib.pyplot as plt\n",
    "import spectral as spy\n",
    "import pandas as pd\n",
    "import numpy as np\n",
    "import os\n",
    "from sklearn.metrics import accuracy_score, classification_report\n",
    "from sklearn.metrics import ConfusionMatrixDisplay\n",
    "from sklearn.neighbors import KNeighborsClassifier\n",
    "from sklearn.metrics import confusion_matrix\n",
    "from numpy import unique\n",
    "from sklearn.metrics import confusion_matrix\n",
    "import time"
   ],
   "metadata": {
    "collapsed": false,
    "pycharm": {
     "name": "#%%\n"
    }
   }
  },
  {
   "cell_type": "markdown",
   "source": [
    "* Funktionen"
   ],
   "metadata": {
    "collapsed": false,
    "pycharm": {
     "name": "#%% md\n"
    }
   }
  },
  {
   "cell_type": "code",
   "execution_count": 8,
   "outputs": [],
   "source": [
    "def isfloat(num):\n",
    "    try:\n",
    "        float(num)\n",
    "        return True\n",
    "    except ValueError:\n",
    "        return False"
   ],
   "metadata": {
    "collapsed": false,
    "pycharm": {
     "name": "#%%\n"
    }
   }
  },
  {
   "cell_type": "code",
   "execution_count": 9,
   "outputs": [],
   "source": [
    "def import_labeled_data():\n",
    "\n",
    "    # Pfad Nextcloud bestimmen\n",
    "    path_nextcloud = find_path_nextcloud()\n",
    "\n",
    "    # Festlegung, welches Grid zusammengelegt werden soll\n",
    "    windowsize_r = 200\n",
    "    windowsize_c = 200\n",
    "\n",
    "    # Bestimmung annotation_folder\n",
    "    # grid_folder = path_nextcloud + \"Daten_Gyrocopter/Oldenburg/Teilbilder/grid_\" + str(windowsize_r) + \"_\" + str(windowsize_c)\n",
    "    # labeled_folder = grid_folder + '/labeled/'\n",
    "    labeled_folder = 'C:/Users/fgrassxx/Desktop/Oldenburg/Oldenburg_grid_200_200/labeled/'\n",
    "    # Liste aller Dateien in annotation_folder erstellen\n",
    "    files = os.listdir(labeled_folder)\n",
    "\n",
    "    # Aus Liste files .hdr Dateien löschen\n",
    "    for file in files:\n",
    "        if not file.endswith('.dat'):\n",
    "            files.remove(file)\n",
    "\n",
    "    # Spaltennamen des DataFrames bilden\n",
    "    path_dat = labeled_folder + os.path.splitext(files[0])[0] + '.dat'\n",
    "    path_hdr = labeled_folder + os.path.splitext(files[0])[0] + '.hdr'\n",
    "\n",
    "    # load image\n",
    "    img = spy.envi.open(file=path_hdr, image=path_dat)\n",
    "\n",
    "    # convert only wavelength into dataframe and round numbers\n",
    "    value_bands = ['hsi_band_' + str(int(float(x))) + '_nm' for x in img.metadata['wavelength'] if isfloat(x)]\n",
    "    value_bands.extend(['thermal', 'dom'])\n",
    "\n",
    "    label_bands = ['label']\n",
    "\n",
    "    bands = []\n",
    "    bands.extend(value_bands)\n",
    "    bands.extend(label_bands)\n",
    "    bands.append('picture_name')\n",
    "\n",
    "    df_annotations = pd.DataFrame(columns=bands)\n",
    "\n",
    "    # labeled Bilder erstellen\n",
    "    for filename in files[:]:\n",
    "        path_dat = labeled_folder + os.path.splitext(filename)[0] + '.dat'\n",
    "        path_hdr = labeled_folder + os.path.splitext(filename)[0] + '.hdr'\n",
    "        img = spy.envi.open(file=path_hdr, image=path_dat)\n",
    "\n",
    "        arr = img.load()\n",
    "\n",
    "        df = pd.DataFrame(arr.reshape(((arr.shape[0]*arr.shape[1]), arr.shape[2])), columns=bands[:-1])\n",
    "        df['picture_name'] = os.path.splitext(filename)[0]\n",
    "\n",
    "        df_annotations = pd.concat([df_annotations, df], ignore_index=True)\n",
    "\n",
    "        df_annotations['label'] = df_annotations['label'].astype(int)\n",
    "\n",
    "\n",
    "    return df_annotations"
   ],
   "metadata": {
    "collapsed": false,
    "pycharm": {
     "name": "#%%\n"
    }
   }
  },
  {
   "cell_type": "markdown",
   "source": [
    "Daten als DataFrame einlesen"
   ],
   "metadata": {
    "collapsed": false,
    "pycharm": {
     "name": "#%% md\n"
    }
   }
  },
  {
   "cell_type": "code",
   "execution_count": 10,
   "outputs": [],
   "source": [
    "df_annotations = import_labeled_data()\n",
    "df_annotations['label'] = df_annotations['label'].replace({0:'None',1:'Wiese', 2:'Straße',3: 'Auto', 4:'See', 5:'Schienen', 6:'Haus', 7:'Wald'})"
   ],
   "metadata": {
    "collapsed": false,
    "pycharm": {
     "name": "#%%\n"
    }
   }
  },
  {
   "cell_type": "code",
   "execution_count": 11,
   "outputs": [
    {
     "data": {
      "text/plain": "  hsi_band_430_nm hsi_band_434_nm hsi_band_439_nm hsi_band_443_nm  \\\n0          1314.0          1369.0          1487.0          1572.0   \n1          1301.0          1389.0          1501.0          1557.0   \n2          1362.0          1494.0          1543.0          1546.0   \n\n  hsi_band_448_nm  \n0          1614.0  \n1          1679.0  \n2          1649.0  ",
      "text/html": "<div>\n<style scoped>\n    .dataframe tbody tr th:only-of-type {\n        vertical-align: middle;\n    }\n\n    .dataframe tbody tr th {\n        vertical-align: top;\n    }\n\n    .dataframe thead th {\n        text-align: right;\n    }\n</style>\n<table border=\"1\" class=\"dataframe\">\n  <thead>\n    <tr style=\"text-align: right;\">\n      <th></th>\n      <th>hsi_band_430_nm</th>\n      <th>hsi_band_434_nm</th>\n      <th>hsi_band_439_nm</th>\n      <th>hsi_band_443_nm</th>\n      <th>hsi_band_448_nm</th>\n    </tr>\n  </thead>\n  <tbody>\n    <tr>\n      <th>0</th>\n      <td>1314.0</td>\n      <td>1369.0</td>\n      <td>1487.0</td>\n      <td>1572.0</td>\n      <td>1614.0</td>\n    </tr>\n    <tr>\n      <th>1</th>\n      <td>1301.0</td>\n      <td>1389.0</td>\n      <td>1501.0</td>\n      <td>1557.0</td>\n      <td>1679.0</td>\n    </tr>\n    <tr>\n      <th>2</th>\n      <td>1362.0</td>\n      <td>1494.0</td>\n      <td>1543.0</td>\n      <td>1546.0</td>\n      <td>1649.0</td>\n    </tr>\n  </tbody>\n</table>\n</div>"
     },
     "execution_count": 11,
     "metadata": {},
     "output_type": "execute_result"
    }
   ],
   "source": [
    "df_annotations.iloc[:3,:5]"
   ],
   "metadata": {
    "collapsed": false,
    "pycharm": {
     "name": "#%%\n"
    }
   }
  },
  {
   "cell_type": "code",
   "execution_count": 12,
   "outputs": [
    {
     "data": {
      "text/plain": "  hsi_band_925_nm thermal  dom label  \\\n0          2554.0     0.0  0.0  None   \n1          2551.0     0.0  0.0  None   \n2          2579.0     0.0  0.0  None   \n\n                                picture_name  \n0  Teilbild_Oldenburg_00000000_00000000_0_0_  \n1  Teilbild_Oldenburg_00000000_00000000_0_0_  \n2  Teilbild_Oldenburg_00000000_00000000_0_0_  ",
      "text/html": "<div>\n<style scoped>\n    .dataframe tbody tr th:only-of-type {\n        vertical-align: middle;\n    }\n\n    .dataframe tbody tr th {\n        vertical-align: top;\n    }\n\n    .dataframe thead th {\n        text-align: right;\n    }\n</style>\n<table border=\"1\" class=\"dataframe\">\n  <thead>\n    <tr style=\"text-align: right;\">\n      <th></th>\n      <th>hsi_band_925_nm</th>\n      <th>thermal</th>\n      <th>dom</th>\n      <th>label</th>\n      <th>picture_name</th>\n    </tr>\n  </thead>\n  <tbody>\n    <tr>\n      <th>0</th>\n      <td>2554.0</td>\n      <td>0.0</td>\n      <td>0.0</td>\n      <td>None</td>\n      <td>Teilbild_Oldenburg_00000000_00000000_0_0_</td>\n    </tr>\n    <tr>\n      <th>1</th>\n      <td>2551.0</td>\n      <td>0.0</td>\n      <td>0.0</td>\n      <td>None</td>\n      <td>Teilbild_Oldenburg_00000000_00000000_0_0_</td>\n    </tr>\n    <tr>\n      <th>2</th>\n      <td>2579.0</td>\n      <td>0.0</td>\n      <td>0.0</td>\n      <td>None</td>\n      <td>Teilbild_Oldenburg_00000000_00000000_0_0_</td>\n    </tr>\n  </tbody>\n</table>\n</div>"
     },
     "execution_count": 12,
     "metadata": {},
     "output_type": "execute_result"
    }
   ],
   "source": [
    "df_annotations.iloc[:3,-5:]"
   ],
   "metadata": {
    "collapsed": false,
    "pycharm": {
     "name": "#%%\n"
    }
   }
  },
  {
   "cell_type": "markdown",
   "source": [
    "Aufteilung in Trainings- und Testdaten"
   ],
   "metadata": {
    "collapsed": false,
    "pycharm": {
     "name": "#%% md\n"
    }
   }
  },
  {
   "cell_type": "code",
   "execution_count": 13,
   "outputs": [],
   "source": [
    "X = df_annotations.drop(columns=['label', 'picture_name'])\n",
    "Y = df_annotations['label']\n",
    "\n",
    "from sklearn.model_selection import train_test_split\n",
    "X_train, X_test, y_train, y_test = train_test_split(X, Y, test_size=0.3)"
   ],
   "metadata": {
    "collapsed": false,
    "pycharm": {
     "name": "#%%\n"
    }
   }
  },
  {
   "cell_type": "markdown",
   "source": [
    "## KNN"
   ],
   "metadata": {
    "collapsed": false,
    "pycharm": {
     "name": "#%% md\n"
    }
   }
  },
  {
   "cell_type": "code",
   "execution_count": 14,
   "outputs": [
    {
     "name": "stdout",
     "output_type": "stream",
     "text": [
      "Accuracy: 76.93549905838042\n",
      "              precision    recall  f1-score   support\n",
      "\n",
      "        Auto       0.68      0.24      0.36      3342\n",
      "        Haus       0.81      0.80      0.80     40392\n",
      "        None       0.75      0.75      0.75     65564\n",
      "    Schienen       0.87      0.53      0.65      1295\n",
      "         See       0.99      0.98      0.99     23664\n",
      "        Wald       0.67      0.81      0.73     35471\n",
      "       Wiese       0.72      0.68      0.70     42672\n",
      "\n",
      "    accuracy                           0.77    212400\n",
      "   macro avg       0.79      0.68      0.71    212400\n",
      "weighted avg       0.77      0.77      0.77    212400\n",
      "\n"
     ]
    },
    {
     "data": {
      "text/plain": "<sklearn.metrics._plot.confusion_matrix.ConfusionMatrixDisplay at 0x18c3ef20100>"
     },
     "execution_count": 14,
     "metadata": {},
     "output_type": "execute_result"
    },
    {
     "data": {
      "text/plain": "<Figure size 432x288 with 2 Axes>",
      "image/png": "[encoded data removed]"
     },
     "metadata": {
      "needs_background": "light"
     },
     "output_type": "display_data"
    }
   ],
   "source": [
    "# save start time\n",
    "start = time.process_time()\n",
    "\n",
    "# Train\n",
    "knn = KNeighborsClassifier(n_neighbors=10)\n",
    "knn.fit(X_train, y_train)\n",
    "\n",
    "# Test\n",
    "knn_pred = knn.predict(X_test)\n",
    "\n",
    "# save end time\n",
    "end = time.process_time()\n",
    "\n",
    "# calculate runtime\n",
    "time = end - start\n",
    "\n",
    "\n",
    "# Result\n",
    "print(f'Laufzeit in Sekunden{time.__round__(1)}')\n",
    "print(f\"Accuracy: {accuracy_score(y_test, knn_pred) * 100}\")\n",
    "print(classification_report(y_test, knn_pred))\n",
    "cm = confusion_matrix(y_test, knn_pred, labels=list(unique(knn_pred)), normalize='true')\n",
    "disp = ConfusionMatrixDisplay(cm, display_labels=list(unique(knn_pred)))\n",
    "disp.plot(cmap=\"OrRd\")"
   ],
   "metadata": {
    "collapsed": false,
    "pycharm": {
     "name": "#%%\n"
    }
   }
  },
  {
   "cell_type": "markdown",
   "source": [
    "### KNN mit Grid-Search"
   ],
   "metadata": {
    "collapsed": false,
    "pycharm": {
     "name": "#%% md\n"
    }
   }
  },
  {
   "cell_type": "code",
   "execution_count": 16,
   "outputs": [],
   "source": [
    "from sklearn.model_selection import GridSearchCV\n",
    "import time"
   ],
   "metadata": {
    "collapsed": false,
    "pycharm": {
     "name": "#%%\n"
    }
   }
  },
  {
   "cell_type": "code",
   "execution_count": null,
   "outputs": [],
   "source": [
    "parameters = {'n_neighbors':[1,5,10,20,30], 'weights':['uniform', 'distance'], 'p':[2]}\n",
    "\n",
    "classifier = GridSearchCV(estimator = KNeighborsClassifier(n_jobs=-1),\n",
    "                          param_grid = parameters,\n",
    "                          scoring = \"f1_macro\",\n",
    "                          n_jobs = -1,\n",
    "                          refit = True,\n",
    "                          cv = 2, # Crossvalidation k-folds\n",
    "                          verbose = 3,\n",
    "                          pre_dispatch ='2*n_jobs',\n",
    "                          error_score = np.nan,\n",
    "                          return_train_score = False)\n"
   ],
   "metadata": {
    "collapsed": false,
    "pycharm": {
     "name": "#%%\n"
    }
   }
  },
  {
   "cell_type": "code",
   "execution_count": null,
   "outputs": [],
   "source": [
    "start = time.process_time()\n",
    "classifier.fit(X=X, y=Y)\n",
    "end = time.process_time()\n",
    "\n",
    "time = end - start"
   ],
   "metadata": {
    "collapsed": false,
    "pycharm": {
     "name": "#%%\n"
    }
   }
  },
  {
   "cell_type": "code",
   "execution_count": null,
   "outputs": [],
   "source": [],
   "metadata": {
    "collapsed": false,
    "pycharm": {
     "name": "#%%\n"
    }
   }
  }
 ],
 "metadata": {
  "kernelspec": {
   "display_name": "Python 3",
   "language": "python",
   "name": "python3"
  },
  "language_info": {
   "codemirror_mode": {
    "name": "ipython",
    "version": 2
   },
   "file_extension": ".py",
   "mimetype": "text/x-python",
   "name": "python",
   "nbconvert_exporter": "python",
   "pygments_lexer": "ipython2",
   "version": "2.7.6"
  }
 },
 "nbformat": 4,
 "nbformat_minor": 0
}