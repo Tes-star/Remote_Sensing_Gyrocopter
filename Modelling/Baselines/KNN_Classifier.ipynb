{
 "cells": [
  {
   "cell_type": "markdown",
   "source": [
    "# KNN-Classifier"
   ],
   "metadata": {
    "collapsed": false,
    "pycharm": {
     "name": "#%% md\n"
    }
   }
  },
  {
   "cell_type": "code",
   "execution_count": 1,
   "outputs": [],
   "source": [
    "# Import Packages\n",
    "from Code.find_path_nextcloud import find_path_nextcloud\n",
    "import matplotlib.pyplot as plt\n",
    "import spectral as spy\n",
    "import pandas as pd\n",
    "import numpy as np\n",
    "import os\n",
    "from sklearn.metrics import accuracy_score, classification_report\n",
    "from sklearn.metrics import ConfusionMatrixDisplay\n",
    "from sklearn.neighbors import KNeighborsClassifier\n",
    "from sklearn.metrics import confusion_matrix\n",
    "from numpy import unique\n",
    "from sklearn.metrics import confusion_matrix\n",
    "import time"
   ],
   "metadata": {
    "collapsed": false,
    "pycharm": {
     "name": "#%%\n"
    }
   }
  },
  {
   "cell_type": "code",
   "execution_count": 2,
   "outputs": [],
   "source": [
    "path_nextcloud = find_path_nextcloud()\n",
    "path_labeled = path_nextcloud + 'Daten_Gyrocopter/Oldenburg/Teilbilder/grid_200_200/labeled/'"
   ],
   "metadata": {
    "collapsed": false,
    "pycharm": {
     "name": "#%%\n"
    }
   }
  },
  {
   "cell_type": "markdown",
   "source": [
    "Daten als DataFrame einlesen"
   ],
   "metadata": {
    "collapsed": false,
    "pycharm": {
     "name": "#%% md\n"
    }
   }
  },
  {
   "cell_type": "code",
   "execution_count": 3,
   "outputs": [],
   "source": [
    "from Code.functions.import_labeled_data import import_labeled_data\n",
    "from Code.functions.class_ids import get_class_dictionary, new_label_mapping\n",
    "df_annotations = import_labeled_data(path_labeled_folder=path_labeled)\n",
    "\n",
    "df_annotations = new_label_mapping(datafrane=df_annotations, map_column='label', label_mapping='Ohne_Auto_See')\n",
    "\n",
    "class_dict = get_class_dictionary()\n",
    "df_annotations['label'] = df_annotations['label'].replace(class_dict)"
   ],
   "metadata": {
    "collapsed": false,
    "pycharm": {
     "name": "#%%\n"
    }
   }
  },
  {
   "cell_type": "code",
   "execution_count": 4,
   "outputs": [
    {
     "data": {
      "text/plain": "  hsi_band_430_nm hsi_band_434_nm hsi_band_439_nm hsi_band_443_nm  \\\n0          1314.0          1369.0          1487.0          1572.0   \n1          1301.0          1389.0          1501.0          1557.0   \n2          1362.0          1494.0          1543.0          1546.0   \n\n  hsi_band_448_nm  \n0          1614.0  \n1          1679.0  \n2          1649.0  ",
      "text/html": "<div>\n<style scoped>\n    .dataframe tbody tr th:only-of-type {\n        vertical-align: middle;\n    }\n\n    .dataframe tbody tr th {\n        vertical-align: top;\n    }\n\n    .dataframe thead th {\n        text-align: right;\n    }\n</style>\n<table border=\"1\" class=\"dataframe\">\n  <thead>\n    <tr style=\"text-align: right;\">\n      <th></th>\n      <th>hsi_band_430_nm</th>\n      <th>hsi_band_434_nm</th>\n      <th>hsi_band_439_nm</th>\n      <th>hsi_band_443_nm</th>\n      <th>hsi_band_448_nm</th>\n    </tr>\n  </thead>\n  <tbody>\n    <tr>\n      <th>0</th>\n      <td>1314.0</td>\n      <td>1369.0</td>\n      <td>1487.0</td>\n      <td>1572.0</td>\n      <td>1614.0</td>\n    </tr>\n    <tr>\n      <th>1</th>\n      <td>1301.0</td>\n      <td>1389.0</td>\n      <td>1501.0</td>\n      <td>1557.0</td>\n      <td>1679.0</td>\n    </tr>\n    <tr>\n      <th>2</th>\n      <td>1362.0</td>\n      <td>1494.0</td>\n      <td>1543.0</td>\n      <td>1546.0</td>\n      <td>1649.0</td>\n    </tr>\n  </tbody>\n</table>\n</div>"
     },
     "execution_count": 4,
     "metadata": {},
     "output_type": "execute_result"
    }
   ],
   "source": [
    "df_annotations.iloc[:3,:5]"
   ],
   "metadata": {
    "collapsed": false,
    "pycharm": {
     "name": "#%%\n"
    }
   }
  },
  {
   "cell_type": "code",
   "execution_count": 5,
   "outputs": [
    {
     "data": {
      "text/plain": "  hsi_band_925_nm thermal  dom label  \\\n0          2554.0     0.0  0.0  None   \n1          2551.0     0.0  0.0  None   \n2          2579.0     0.0  0.0  None   \n\n                                picture_name  \n0  Teilbild_Oldenburg_00000000_00000000_0_0_  \n1  Teilbild_Oldenburg_00000000_00000000_0_0_  \n2  Teilbild_Oldenburg_00000000_00000000_0_0_  ",
      "text/html": "<div>\n<style scoped>\n    .dataframe tbody tr th:only-of-type {\n        vertical-align: middle;\n    }\n\n    .dataframe tbody tr th {\n        vertical-align: top;\n    }\n\n    .dataframe thead th {\n        text-align: right;\n    }\n</style>\n<table border=\"1\" class=\"dataframe\">\n  <thead>\n    <tr style=\"text-align: right;\">\n      <th></th>\n      <th>hsi_band_925_nm</th>\n      <th>thermal</th>\n      <th>dom</th>\n      <th>label</th>\n      <th>picture_name</th>\n    </tr>\n  </thead>\n  <tbody>\n    <tr>\n      <th>0</th>\n      <td>2554.0</td>\n      <td>0.0</td>\n      <td>0.0</td>\n      <td>None</td>\n      <td>Teilbild_Oldenburg_00000000_00000000_0_0_</td>\n    </tr>\n    <tr>\n      <th>1</th>\n      <td>2551.0</td>\n      <td>0.0</td>\n      <td>0.0</td>\n      <td>None</td>\n      <td>Teilbild_Oldenburg_00000000_00000000_0_0_</td>\n    </tr>\n    <tr>\n      <th>2</th>\n      <td>2579.0</td>\n      <td>0.0</td>\n      <td>0.0</td>\n      <td>None</td>\n      <td>Teilbild_Oldenburg_00000000_00000000_0_0_</td>\n    </tr>\n  </tbody>\n</table>\n</div>"
     },
     "execution_count": 5,
     "metadata": {},
     "output_type": "execute_result"
    }
   ],
   "source": [
    "df_annotations.iloc[:3,-5:]"
   ],
   "metadata": {
    "collapsed": false,
    "pycharm": {
     "name": "#%%\n"
    }
   }
  },
  {
   "cell_type": "markdown",
   "source": [
    "Aufteilung in Trainings- und Testdaten"
   ],
   "metadata": {
    "collapsed": false,
    "pycharm": {
     "name": "#%% md\n"
    }
   }
  },
  {
   "cell_type": "code",
   "execution_count": 6,
   "outputs": [
    {
     "name": "stdout",
     "output_type": "stream",
     "text": [
      "X_train Shape: 924000\n",
      "X_test Shape: 396000\n",
      "y_train Shape: 924000\n",
      "y_test Shape:396000\n"
     ]
    }
   ],
   "source": [
    "X = df_annotations.drop(columns=['label', 'picture_name'])\n",
    "Y = df_annotations['label']\n",
    "\n",
    "from sklearn.model_selection import train_test_split\n",
    "\n",
    "X_train, X_test, y_train, y_test = train_test_split(X, Y, test_size=0.3, random_state=0)\n",
    "\n",
    "print(f'X_train Shape: {len(X_train)}\\nX_test Shape: {len(X_test)}\\ny_train Shape: {len(y_train)}\\ny_test Shape:{len(y_test)}')"
   ],
   "metadata": {
    "collapsed": false,
    "pycharm": {
     "name": "#%%\n"
    }
   }
  },
  {
   "cell_type": "markdown",
   "source": [
    "## KNN"
   ],
   "metadata": {
    "collapsed": false,
    "pycharm": {
     "name": "#%% md\n"
    }
   }
  },
  {
   "cell_type": "code",
   "execution_count": 7,
   "outputs": [
    {
     "name": "stdout",
     "output_type": "stream",
     "text": [
      "Laufzeit: 5815.4s\n",
      "Accuracy: 71.16944444444444\n",
      "              precision    recall  f1-score   support\n",
      "\n",
      "        Haus       0.79      0.80      0.80     91559\n",
      "        None       0.64      0.63      0.63     96783\n",
      "    Schienen       0.84      0.52      0.64      6246\n",
      "      Strase       0.67      0.63      0.65     47542\n",
      "        Wald       0.70      0.88      0.78     81588\n",
      "       Wiese       0.75      0.59      0.66     72282\n",
      "\n",
      "    accuracy                           0.71    396000\n",
      "   macro avg       0.73      0.67      0.69    396000\n",
      "weighted avg       0.71      0.71      0.71    396000\n",
      "\n"
     ]
    },
    {
     "data": {
      "text/plain": "<Figure size 432x288 with 2 Axes>",
      "image/png": "[encoded data removed]"
     },
     "metadata": {
      "needs_background": "light"
     },
     "output_type": "display_data"
    }
   ],
   "source": [
    "# save start time\n",
    "start = time.process_time()\n",
    "\n",
    "# Train\n",
    "knn = KNeighborsClassifier(n_neighbors=10)\n",
    "knn.fit(X_train, y_train)\n",
    "\n",
    "# Test\n",
    "knn_pred = knn.predict(X_test)\n",
    "\n",
    "# save end time\n",
    "end = time.process_time()\n",
    "\n",
    "# calculate runtime\n",
    "run_time = end - start\n",
    "\n",
    "\n",
    "# Result\n",
    "print(f'Laufzeit: {run_time.__round__(1)}s')\n",
    "print(f\"Accuracy: {accuracy_score(y_test, knn_pred) * 100}\")\n",
    "print(classification_report(y_test, knn_pred))\n",
    "\n",
    "cm = confusion_matrix(y_test, knn_pred, labels=list(unique(knn_pred)), normalize='true')\n",
    "disp = ConfusionMatrixDisplay(cm, display_labels=list(unique(knn_pred)))\n",
    "disp.plot(cmap=\"OrRd\")\n",
    "plt.show()"
   ],
   "metadata": {
    "collapsed": false,
    "pycharm": {
     "name": "#%%\n"
    }
   }
  },
  {
   "cell_type": "markdown",
   "source": [
    "### KNN mit Grid-Search"
   ],
   "metadata": {
    "collapsed": false,
    "pycharm": {
     "name": "#%% md\n"
    }
   }
  },
  {
   "cell_type": "code",
   "execution_count": 10,
   "outputs": [],
   "source": [
    "from sklearn.model_selection import GridSearchCV\n",
    "import time"
   ],
   "metadata": {
    "collapsed": false,
    "pycharm": {
     "name": "#%%\n"
    }
   }
  },
  {
   "cell_type": "code",
   "execution_count": 11,
   "outputs": [],
   "source": [
    "parameters = {'n_neighbors':[1,5,10,20,30], 'weights':['uniform', 'distance'], 'p':[2]}\n",
    "\n",
    "classifier = GridSearchCV(estimator = KNeighborsClassifier(n_jobs=5),\n",
    "                          param_grid = parameters,\n",
    "                          scoring = \"f1_macro\",\n",
    "                          n_jobs = 6,\n",
    "                          refit = True,\n",
    "                          cv = 2, # Crossvalidation k-folds\n",
    "                          verbose = 3,\n",
    "                          pre_dispatch ='2*n_jobs',\n",
    "                          error_score = np.nan,\n",
    "                          return_train_score = False)\n"
   ],
   "metadata": {
    "collapsed": false,
    "pycharm": {
     "name": "#%%\n"
    }
   }
  },
  {
   "cell_type": "code",
   "execution_count": null,
   "outputs": [
    {
     "name": "stdout",
     "output_type": "stream",
     "text": [
      "Fitting 2 folds for each of 10 candidates, totalling 20 fits\n"
     ]
    }
   ],
   "source": [
    "start = time.process_time()\n",
    "classifier.fit(X=X, y=Y)\n",
    "end = time.process_time()\n",
    "\n",
    "run_time = end - start\n",
    "print(f'Laufzeit: {run_time.__round__(1)}s')"
   ],
   "metadata": {
    "collapsed": false,
    "pycharm": {
     "name": "#%%\n",
     "is_executing": true
    }
   }
  },
  {
   "cell_type": "code",
   "execution_count": 13,
   "outputs": [
    {
     "data": {
      "text/plain": "   mean_fit_time  std_fit_time  mean_score_time  std_score_time  \\\n0       1.979184      0.010469      1396.597473       18.642152   \n1       2.023572      0.027944      1363.865004       41.031280   \n2       2.112352      0.120678      1351.799765       22.754651   \n3       2.453942      0.031415      1359.034916       32.813254   \n4       2.500812      0.069314      1384.970073       26.073777   \n\n  param_n_neighbors param_p param_weights  \\\n0                 1       2       uniform   \n1                 1       2      distance   \n2                 5       2       uniform   \n3                 5       2      distance   \n4                10       2       uniform   \n\n                                              params  split0_test_score  \\\n0   {'n_neighbors': 1, 'p': 2, 'weights': 'uniform'}           0.547485   \n1  {'n_neighbors': 1, 'p': 2, 'weights': 'distance'}           0.547485   \n2   {'n_neighbors': 5, 'p': 2, 'weights': 'uniform'}           0.562000   \n3  {'n_neighbors': 5, 'p': 2, 'weights': 'distance'}           0.569603   \n4  {'n_neighbors': 10, 'p': 2, 'weights': 'uniform'}           0.573162   \n\n   split1_test_score  mean_test_score  std_test_score  rank_test_score  \n0           0.575717         0.561601        0.014116                9  \n1           0.575717         0.561601        0.014116                9  \n2           0.607505         0.584753        0.022753                8  \n3           0.610203         0.589903        0.020300                7  \n4           0.623712         0.598437        0.025275                6  ",
      "text/html": "<div>\n<style scoped>\n    .dataframe tbody tr th:only-of-type {\n        vertical-align: middle;\n    }\n\n    .dataframe tbody tr th {\n        vertical-align: top;\n    }\n\n    .dataframe thead th {\n        text-align: right;\n    }\n</style>\n<table border=\"1\" class=\"dataframe\">\n  <thead>\n    <tr style=\"text-align: right;\">\n      <th></th>\n      <th>mean_fit_time</th>\n      <th>std_fit_time</th>\n      <th>mean_score_time</th>\n      <th>std_score_time</th>\n      <th>param_n_neighbors</th>\n      <th>param_p</th>\n      <th>param_weights</th>\n      <th>params</th>\n      <th>split0_test_score</th>\n      <th>split1_test_score</th>\n      <th>mean_test_score</th>\n      <th>std_test_score</th>\n      <th>rank_test_score</th>\n    </tr>\n  </thead>\n  <tbody>\n    <tr>\n      <th>0</th>\n      <td>1.979184</td>\n      <td>0.010469</td>\n      <td>1396.597473</td>\n      <td>18.642152</td>\n      <td>1</td>\n      <td>2</td>\n      <td>uniform</td>\n      <td>{'n_neighbors': 1, 'p': 2, 'weights': 'uniform'}</td>\n      <td>0.547485</td>\n      <td>0.575717</td>\n      <td>0.561601</td>\n      <td>0.014116</td>\n      <td>9</td>\n    </tr>\n    <tr>\n      <th>1</th>\n      <td>2.023572</td>\n      <td>0.027944</td>\n      <td>1363.865004</td>\n      <td>41.031280</td>\n      <td>1</td>\n      <td>2</td>\n      <td>distance</td>\n      <td>{'n_neighbors': 1, 'p': 2, 'weights': 'distance'}</td>\n      <td>0.547485</td>\n      <td>0.575717</td>\n      <td>0.561601</td>\n      <td>0.014116</td>\n      <td>9</td>\n    </tr>\n    <tr>\n      <th>2</th>\n      <td>2.112352</td>\n      <td>0.120678</td>\n      <td>1351.799765</td>\n      <td>22.754651</td>\n      <td>5</td>\n      <td>2</td>\n      <td>uniform</td>\n      <td>{'n_neighbors': 5, 'p': 2, 'weights': 'uniform'}</td>\n      <td>0.562000</td>\n      <td>0.607505</td>\n      <td>0.584753</td>\n      <td>0.022753</td>\n      <td>8</td>\n    </tr>\n    <tr>\n      <th>3</th>\n      <td>2.453942</td>\n      <td>0.031415</td>\n      <td>1359.034916</td>\n      <td>32.813254</td>\n      <td>5</td>\n      <td>2</td>\n      <td>distance</td>\n      <td>{'n_neighbors': 5, 'p': 2, 'weights': 'distance'}</td>\n      <td>0.569603</td>\n      <td>0.610203</td>\n      <td>0.589903</td>\n      <td>0.020300</td>\n      <td>7</td>\n    </tr>\n    <tr>\n      <th>4</th>\n      <td>2.500812</td>\n      <td>0.069314</td>\n      <td>1384.970073</td>\n      <td>26.073777</td>\n      <td>10</td>\n      <td>2</td>\n      <td>uniform</td>\n      <td>{'n_neighbors': 10, 'p': 2, 'weights': 'uniform'}</td>\n      <td>0.573162</td>\n      <td>0.623712</td>\n      <td>0.598437</td>\n      <td>0.025275</td>\n      <td>6</td>\n    </tr>\n  </tbody>\n</table>\n</div>"
     },
     "execution_count": 13,
     "metadata": {},
     "output_type": "execute_result"
    }
   ],
   "source": [
    "df = pd.DataFrame(classifier.cv_results_)\n",
    "df.head()"
   ],
   "metadata": {
    "collapsed": false,
    "pycharm": {
     "name": "#%%\n"
    }
   }
  },
  {
   "cell_type": "code",
   "execution_count": 18,
   "outputs": [],
   "source": [
    "df.to_csv(path_or_buf='data/KNN_GridSearch.csv', sep=';', encoding='utf8')"
   ],
   "metadata": {
    "collapsed": false,
    "pycharm": {
     "name": "#%%\n"
    }
   }
  },
  {
   "cell_type": "code",
   "execution_count": 19,
   "outputs": [
    {
     "data": {
      "text/plain": "KNeighborsClassifier(n_jobs=5, n_neighbors=20, weights='distance')",
      "text/html": "<style>#sk-container-id-1 {color: black;background-color: white;}#sk-container-id-1 pre{padding: 0;}#sk-container-id-1 div.sk-toggleable {background-color: white;}#sk-container-id-1 label.sk-toggleable__label {cursor: pointer;display: block;width: 100%;margin-bottom: 0;padding: 0.3em;box-sizing: border-box;text-align: center;}#sk-container-id-1 label.sk-toggleable__label-arrow:before {content: \"▸\";float: left;margin-right: 0.25em;color: #696969;}#sk-container-id-1 label.sk-toggleable__label-arrow:hover:before {color: black;}#sk-container-id-1 div.sk-estimator:hover label.sk-toggleable__label-arrow:before {color: black;}#sk-container-id-1 div.sk-toggleable__content {max-height: 0;max-width: 0;overflow: hidden;text-align: left;background-color: #f0f8ff;}#sk-container-id-1 div.sk-toggleable__content pre {margin: 0.2em;color: black;border-radius: 0.25em;background-color: #f0f8ff;}#sk-container-id-1 input.sk-toggleable__control:checked~div.sk-toggleable__content {max-height: 200px;max-width: 100%;overflow: auto;}#sk-container-id-1 input.sk-toggleable__control:checked~label.sk-toggleable__label-arrow:before {content: \"▾\";}#sk-container-id-1 div.sk-estimator input.sk-toggleable__control:checked~label.sk-toggleable__label {background-color: #d4ebff;}#sk-container-id-1 div.sk-label input.sk-toggleable__control:checked~label.sk-toggleable__label {background-color: #d4ebff;}#sk-container-id-1 input.sk-hidden--visually {border: 0;clip: rect(1px 1px 1px 1px);clip: rect(1px, 1px, 1px, 1px);height: 1px;margin: -1px;overflow: hidden;padding: 0;position: absolute;width: 1px;}#sk-container-id-1 div.sk-estimator {font-family: monospace;background-color: #f0f8ff;border: 1px dotted black;border-radius: 0.25em;box-sizing: border-box;margin-bottom: 0.5em;}#sk-container-id-1 div.sk-estimator:hover {background-color: #d4ebff;}#sk-container-id-1 div.sk-parallel-item::after {content: \"\";width: 100%;border-bottom: 1px solid gray;flex-grow: 1;}#sk-container-id-1 div.sk-label:hover label.sk-toggleable__label {background-color: #d4ebff;}#sk-container-id-1 div.sk-serial::before {content: \"\";position: absolute;border-left: 1px solid gray;box-sizing: border-box;top: 0;bottom: 0;left: 50%;z-index: 0;}#sk-container-id-1 div.sk-serial {display: flex;flex-direction: column;align-items: center;background-color: white;padding-right: 0.2em;padding-left: 0.2em;position: relative;}#sk-container-id-1 div.sk-item {position: relative;z-index: 1;}#sk-container-id-1 div.sk-parallel {display: flex;align-items: stretch;justify-content: center;background-color: white;position: relative;}#sk-container-id-1 div.sk-item::before, #sk-container-id-1 div.sk-parallel-item::before {content: \"\";position: absolute;border-left: 1px solid gray;box-sizing: border-box;top: 0;bottom: 0;left: 50%;z-index: -1;}#sk-container-id-1 div.sk-parallel-item {display: flex;flex-direction: column;z-index: 1;position: relative;background-color: white;}#sk-container-id-1 div.sk-parallel-item:first-child::after {align-self: flex-end;width: 50%;}#sk-container-id-1 div.sk-parallel-item:last-child::after {align-self: flex-start;width: 50%;}#sk-container-id-1 div.sk-parallel-item:only-child::after {width: 0;}#sk-container-id-1 div.sk-dashed-wrapped {border: 1px dashed gray;margin: 0 0.4em 0.5em 0.4em;box-sizing: border-box;padding-bottom: 0.4em;background-color: white;}#sk-container-id-1 div.sk-label label {font-family: monospace;font-weight: bold;display: inline-block;line-height: 1.2em;}#sk-container-id-1 div.sk-label-container {text-align: center;}#sk-container-id-1 div.sk-container {/* jupyter's `normalize.less` sets `[hidden] { display: none; }` but bootstrap.min.css set `[hidden] { display: none !important; }` so we also need the `!important` here to be able to override the default hidden behavior on the sphinx rendered scikit-learn.org. See: https://github.com/scikit-learn/scikit-learn/issues/21755 */display: inline-block !important;position: relative;}#sk-container-id-1 div.sk-text-repr-fallback {display: none;}</style><div id=\"sk-container-id-1\" class=\"sk-top-container\"><div class=\"sk-text-repr-fallback\"><pre>KNeighborsClassifier(n_jobs=5, n_neighbors=20, weights=&#x27;distance&#x27;)</pre><b>In a Jupyter environment, please rerun this cell to show the HTML representation or trust the notebook. <br />On GitHub, the HTML representation is unable to render, please try loading this page with nbviewer.org.</b></div><div class=\"sk-container\" hidden><div class=\"sk-item\"><div class=\"sk-estimator sk-toggleable\"><input class=\"sk-toggleable__control sk-hidden--visually\" id=\"sk-estimator-id-1\" type=\"checkbox\" checked><label for=\"sk-estimator-id-1\" class=\"sk-toggleable__label sk-toggleable__label-arrow\">KNeighborsClassifier</label><div class=\"sk-toggleable__content\"><pre>KNeighborsClassifier(n_jobs=5, n_neighbors=20, weights=&#x27;distance&#x27;)</pre></div></div></div></div></div>"
     },
     "execution_count": 19,
     "metadata": {},
     "output_type": "execute_result"
    }
   ],
   "source": [
    "classifier.best_estimator_"
   ],
   "metadata": {
    "collapsed": false,
    "pycharm": {
     "name": "#%%\n"
    }
   }
  },
  {
   "cell_type": "code",
   "execution_count": 20,
   "outputs": [
    {
     "data": {
      "text/plain": "0.6046059210693627"
     },
     "execution_count": 20,
     "metadata": {},
     "output_type": "execute_result"
    }
   ],
   "source": [
    "classifier.best_score_"
   ],
   "metadata": {
    "collapsed": false,
    "pycharm": {
     "name": "#%%\n"
    }
   }
  }
 ],
 "metadata": {
  "kernelspec": {
   "display_name": "Python 3",
   "language": "python",
   "name": "python3"
  },
  "language_info": {
   "codemirror_mode": {
    "name": "ipython",
    "version": 2
   },
   "file_extension": ".py",
   "mimetype": "text/x-python",
   "name": "python",
   "nbconvert_exporter": "python",
   "pygments_lexer": "ipython2",
   "version": "2.7.6"
  }
 },
 "nbformat": 4,
 "nbformat_minor": 0
}