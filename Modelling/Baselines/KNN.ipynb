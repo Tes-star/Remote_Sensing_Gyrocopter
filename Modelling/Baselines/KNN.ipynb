{
 "cells": [
  {
   "cell_type": "markdown",
   "source": [
    "### Import Data"
   ],
   "metadata": {
    "collapsed": false,
    "pycharm": {
     "name": "#%% md\n"
    }
   }
  },
  {
   "cell_type": "code",
   "execution_count": 1,
   "outputs": [
    {
     "ename": "ValueError",
     "evalue": "could not broadcast input array from shape (180,200,118) into shape (200,200,118)",
     "output_type": "error",
     "traceback": [
      "\u001B[1;31m---------------------------------------------------------------------------\u001B[0m",
      "\u001B[1;31mValueError\u001B[0m                                Traceback (most recent call last)",
      "\u001B[1;32m<ipython-input-1-097c7ead5441>\u001B[0m in \u001B[0;36m<module>\u001B[1;34m\u001B[0m\n\u001B[1;32m----> 1\u001B[1;33m \u001B[1;32mfrom\u001B[0m \u001B[0mModelling\u001B[0m\u001B[1;33m.\u001B[0m\u001B[0mBaselines\u001B[0m\u001B[1;33m.\u001B[0m\u001B[0mData_Preprocessing\u001B[0m \u001B[1;32mimport\u001B[0m \u001B[0mimport_labeled_data\u001B[0m\u001B[1;33m\u001B[0m\u001B[1;33m\u001B[0m\u001B[0m\n\u001B[0m\u001B[0;32m      2\u001B[0m \u001B[0mX\u001B[0m\u001B[1;33m,\u001B[0m\u001B[0mY\u001B[0m\u001B[1;33m=\u001B[0m\u001B[0mimport_labeled_data\u001B[0m\u001B[1;33m(\u001B[0m\u001B[1;33m)\u001B[0m\u001B[1;33m\u001B[0m\u001B[1;33m\u001B[0m\u001B[0m\n",
      "\u001B[1;32m~\\PycharmProjects\\pds_gyrocopter\\Modelling\\Baselines\\Data_Preprocessing.py\u001B[0m in \u001B[0;36m<module>\u001B[1;34m\u001B[0m\n\u001B[0;32m     87\u001B[0m     \u001B[1;32mreturn\u001B[0m \u001B[0mdata\u001B[0m\u001B[1;33m\u001B[0m\u001B[1;33m\u001B[0m\u001B[0m\n\u001B[0;32m     88\u001B[0m \u001B[1;33m\u001B[0m\u001B[0m\n\u001B[1;32m---> 89\u001B[1;33m \u001B[0mX\u001B[0m\u001B[1;33m,\u001B[0m \u001B[0mY\u001B[0m \u001B[1;33m=\u001B[0m \u001B[0mimport_labeled_photos\u001B[0m\u001B[1;33m(\u001B[0m\u001B[1;33m)\u001B[0m\u001B[1;33m\u001B[0m\u001B[1;33m\u001B[0m\u001B[0m\n\u001B[0m",
      "\u001B[1;32m~\\PycharmProjects\\pds_gyrocopter\\Modelling\\Baselines\\Data_Preprocessing.py\u001B[0m in \u001B[0;36mimport_labeled_photos\u001B[1;34m()\u001B[0m\n\u001B[0;32m     76\u001B[0m         \u001B[1;31m#for row in range(0, data.shape[0]):\u001B[0m\u001B[1;33m\u001B[0m\u001B[1;33m\u001B[0m\u001B[0m\n\u001B[0;32m     77\u001B[0m         \u001B[1;31m#    for column in range(0, data.shape[1]):\u001B[0m\u001B[1;33m\u001B[0m\u001B[1;33m\u001B[0m\u001B[0m\n\u001B[1;32m---> 78\u001B[1;33m         \u001B[0mdataholder\u001B[0m\u001B[1;33m[\u001B[0m\u001B[1;33m:\u001B[0m\u001B[1;33m]\u001B[0m\u001B[1;33m[\u001B[0m\u001B[1;33m:\u001B[0m\u001B[1;33m]\u001B[0m\u001B[1;33m[\u001B[0m\u001B[1;33m:\u001B[0m\u001B[1;33m]\u001B[0m\u001B[1;33m=\u001B[0m\u001B[0mdata\u001B[0m\u001B[1;33m[\u001B[0m\u001B[1;33m:\u001B[0m\u001B[1;33m]\u001B[0m\u001B[1;33m[\u001B[0m\u001B[1;33m:\u001B[0m\u001B[1;33m]\u001B[0m\u001B[1;33m[\u001B[0m\u001B[1;33m:\u001B[0m\u001B[1;33m]\u001B[0m\u001B[1;33m\u001B[0m\u001B[1;33m\u001B[0m\u001B[0m\n\u001B[0m\u001B[0;32m     79\u001B[0m \u001B[1;33m\u001B[0m\u001B[0m\n\u001B[0;32m     80\u001B[0m         \u001B[0mX\u001B[0m\u001B[1;33m.\u001B[0m\u001B[0mappend\u001B[0m\u001B[1;33m(\u001B[0m\u001B[0mdataholder\u001B[0m\u001B[1;33m[\u001B[0m\u001B[1;33m:\u001B[0m\u001B[1;33m,\u001B[0m\u001B[1;33m:\u001B[0m\u001B[1;33m,\u001B[0m\u001B[1;36m0\u001B[0m\u001B[1;33m:\u001B[0m\u001B[1;36m109\u001B[0m\u001B[1;33m]\u001B[0m\u001B[1;33m)\u001B[0m\u001B[1;33m\u001B[0m\u001B[1;33m\u001B[0m\u001B[0m\n",
      "\u001B[1;31mValueError\u001B[0m: could not broadcast input array from shape (180,200,118) into shape (200,200,118)"
     ]
    }
   ],
   "source": [
    "from Modelling.Baselines.Data_Preprocessing import import_labeled_data\n",
    "X,Y=import_labeled_data()"
   ],
   "metadata": {
    "collapsed": false,
    "pycharm": {
     "name": "#%%\n"
    }
   }
  },
  {
   "cell_type": "markdown",
   "source": [
    "### Split Data"
   ],
   "metadata": {
    "collapsed": false,
    "pycharm": {
     "name": "#%% md\n"
    }
   }
  },
  {
   "cell_type": "code",
   "execution_count": null,
   "outputs": [],
   "source": [
    "from sklearn.model_selection import train_test_split\n",
    "X_train, X_test, y_train, y_test = train_test_split(X, Y, test_size=0.30, stratify=Y)\n",
    "labels = {0:'None',1:'Wiese', 2:'Straße',3: 'Auto', 4:'See', 5:'Schienen', 6:'Haus', 7:'Wald'}\n",
    "\n",
    "#convert ID Labels to ID\n",
    "y_train = [labels[y] for y in y_train]\n",
    "y_test = [labels[y] for y in y_test]\n",
    "\n",
    "print(f'X_train Shape: {len(X_train)}\\nX_test Shape: {len(X_test)}\\ny_train Shape: {len(y_train)}\\ny_test Shape:{len(y_test)}')"
   ],
   "metadata": {
    "collapsed": false,
    "pycharm": {
     "name": "#%%\n"
    }
   }
  },
  {
   "cell_type": "markdown",
   "source": [
    "## K-Nearest Neighbor Classifier (K-NNC)"
   ],
   "metadata": {
    "collapsed": false,
    "pycharm": {
     "name": "#%% md\n"
    }
   }
  },
  {
   "cell_type": "code",
   "execution_count": null,
   "outputs": [],
   "source": [
    "from sklearn.metrics import accuracy_score, classification_report\n",
    "from sklearn.metrics import ConfusionMatrixDisplay\n",
    "from sklearn.neighbors import KNeighborsClassifier\n",
    "from sklearn.metrics import confusion_matrix\n",
    "from numpy import unique\n",
    "from sklearn.metrics import confusion_matrix\n",
    "\n",
    "# Train\n",
    "knn = KNeighborsClassifier(n_neighbors=10)\n",
    "knn.fit(X_train, y_train)\n",
    "\n",
    "# Test\n",
    "knn_pred = knn.predict(X_test)\n",
    "\n",
    "# Result\n",
    "print(f\"Accuracy: {accuracy_score(y_test, knn_pred) * 100}\")\n",
    "print(classification_report(y_test, knn_pred))\n",
    "cm=confusion_matrix(y_test, knn_pred,labels=list(unique(knn_pred)),normalize='true')\n",
    "disp=ConfusionMatrixDisplay(cm,  display_labels=list(unique(knn_pred)))\n",
    "disp.plot(cmap=\"OrRd\")"
   ],
   "metadata": {
    "collapsed": false,
    "pycharm": {
     "name": "#%%\n"
    }
   }
  },
  {
   "cell_type": "markdown",
   "source": [
    "### K-Nearest Neighbor Classifier (K-NNC) with Scaled Data"
   ],
   "metadata": {
    "collapsed": false,
    "pycharm": {
     "name": "#%% md\n"
    }
   }
  },
  {
   "cell_type": "code",
   "execution_count": null,
   "outputs": [],
   "source": [
    "from Modelling.Baselines.Data_Preprocessing import scale_data\n",
    "from sklearn.metrics import accuracy_score, classification_report\n",
    "from sklearn.neighbors import KNeighborsClassifier\n",
    "\n",
    "#Scale data\n",
    "X_train=scale_data(X_train)\n",
    "X_test=scale_data(X_test)\n",
    "\n",
    "#Train\n",
    "knn = KNeighborsClassifier(n_neighbors=10)\n",
    "knn.fit(X_train, y_train)\n",
    "\n",
    "#Test\n",
    "knn_pred = knn.predict(X_test)\n",
    "\n",
    "#Result\n",
    "print(f\"Accuracy: {accuracy_score(y_test, knn_pred) * 100}\")\n",
    "print(classification_report(y_test, knn_pred))\n",
    "cm=confusion_matrix(y_test, knn_pred,labels=list(unique(knn_pred)),normalize='true')\n",
    "disp=ConfusionMatrixDisplay(cm,  display_labels=list(unique(knn_pred)))\n",
    "disp.plot(cmap=\"OrRd\")"
   ],
   "metadata": {
    "collapsed": false,
    "pycharm": {
     "name": "#%%\n"
    }
   }
  },
  {
   "cell_type": "markdown",
   "source": [],
   "metadata": {
    "collapsed": false,
    "pycharm": {
     "name": "#%% md\n"
    }
   }
  },
  {
   "cell_type": "code",
   "execution_count": null,
   "outputs": [],
   "source": [
    "from numpy import unique\n",
    "\n",
    "unique(Y)\n",
    "from matplotlib.colors import ListedColormap\n",
    "import numpy as np\n",
    "import lightgbm as lgb\n",
    "\n",
    "d_train = lgb.Dataset(X_train, label=y_train)\n",
    "\n",
    "params = {}\n",
    "params['learning_rate'] = 0.03\n",
    "params['boosting_type'] = 'gbdt'  #GradientBoostingDecisionTree\n",
    "params['objective'] = 'multiclass'  #Multi-class target feature\n",
    "params['metric'] = 'multi_logloss'  #metric for multi-class\n",
    "params['max_depth'] = 15\n",
    "params['num_class'] = 4  #no.of unique values in the target class not inclusive of the end value\n",
    "\n",
    "clf = lgb.train(params, d_train, 100)\n",
    "lgb_predictions = clf.predict(X_test)\n",
    "print(lgb_predictions[1], np.argmax(lgb_predictions[1]))\n",
    "# lbg_pred = [np.argmax(x) for x in lgb_predictions]\n",
    "# np.array(lbg_pred).shape\n",
    "\n",
    "lgb_pred = np.argmax(lgb_predictions, axis=1)\n",
    "lgb_pred.shape\n",
    "print(f\"Accuracy: {accuracy_score(y_test, lgb_pred) * 100}\")\n",
    "print(classification_report(y_test, lgb_pred))\n",
    "cm=confusion_matrix(y_test, knn_pred,labels=list(unique(knn_pred)),normalize='true')\n",
    "disp=ConfusionMatrixDisplay(cm,  display_labels=list(unique(knn_pred)))\n",
    "disp.plot(cmap=\"OrRd\")\n",
    "# Visualize Classification Map of LightGBM"
   ],
   "metadata": {
    "collapsed": false,
    "pycharm": {
     "name": "#%%\n"
    }
   }
  }
 ],
 "metadata": {
  "kernelspec": {
   "display_name": "Python 3",
   "language": "python",
   "name": "python3"
  },
  "language_info": {
   "codemirror_mode": {
    "name": "ipython",
    "version": 2
   },
   "file_extension": ".py",
   "mimetype": "text/x-python",
   "name": "python",
   "nbconvert_exporter": "python",
   "pygments_lexer": "ipython2",
   "version": "2.7.6"
  }
 },
 "nbformat": 4,
 "nbformat_minor": 0
}