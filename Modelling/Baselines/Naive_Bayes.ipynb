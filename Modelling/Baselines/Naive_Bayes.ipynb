{
 "cells": [
  {
   "cell_type": "markdown",
   "source": [
    "### Import Data"
   ],
   "metadata": {
    "collapsed": false,
    "pycharm": {
     "name": "#%% md\n"
    }
   }
  },
  {
   "cell_type": "code",
   "execution_count": 2,
   "outputs": [],
   "source": [
    "# Import Packages\n",
    "from Code.find_path_nextcloud import find_path_nextcloud\n",
    "import matplotlib.pyplot as plt\n",
    "import time"
   ],
   "metadata": {
    "collapsed": false,
    "pycharm": {
     "name": "#%%\n"
    }
   }
  },
  {
   "cell_type": "code",
   "execution_count": 3,
   "outputs": [],
   "source": [
    "path_nextcloud = find_path_nextcloud()\n",
    "path_labeled = path_nextcloud + 'Daten_Gyrocopter/Oldenburg/Teilbilder/grid_200_200/labeled/'"
   ],
   "metadata": {
    "collapsed": false,
    "pycharm": {
     "name": "#%%\n"
    }
   }
  },
  {
   "cell_type": "markdown",
   "source": [
    "Daten als DataFrame einlesen"
   ],
   "metadata": {
    "collapsed": false,
    "pycharm": {
     "name": "#%% md\n"
    }
   }
  },
  {
   "cell_type": "code",
   "execution_count": 4,
   "outputs": [],
   "source": [
    "from Code.functions.import_labeled_data import import_labeled_data\n",
    "from Code.functions.class_ids import get_class_dictionary, new_label_mapping\n",
    "df_annotations = import_labeled_data(path_labeled_folder=path_labeled)\n",
    "\n",
    "df_annotations = new_label_mapping(dataframe=df_annotations, map_column='label', label_mapping='Ohne_Auto_See')\n",
    "\n",
    "class_dict = get_class_dictionary()\n",
    "df_annotations['label'] = df_annotations['label'].replace(class_dict)"
   ],
   "metadata": {
    "collapsed": false,
    "pycharm": {
     "name": "#%%\n"
    }
   }
  },
  {
   "cell_type": "code",
   "execution_count": 5,
   "outputs": [
    {
     "data": {
      "text/plain": "  hsi_band_430_nm hsi_band_434_nm hsi_band_439_nm hsi_band_443_nm  \\\n0          1314.0          1369.0          1487.0          1572.0   \n1          1301.0          1389.0          1501.0          1557.0   \n2          1362.0          1494.0          1543.0          1546.0   \n\n  hsi_band_448_nm  \n0          1614.0  \n1          1679.0  \n2          1649.0  ",
      "text/html": "<div>\n<style scoped>\n    .dataframe tbody tr th:only-of-type {\n        vertical-align: middle;\n    }\n\n    .dataframe tbody tr th {\n        vertical-align: top;\n    }\n\n    .dataframe thead th {\n        text-align: right;\n    }\n</style>\n<table border=\"1\" class=\"dataframe\">\n  <thead>\n    <tr style=\"text-align: right;\">\n      <th></th>\n      <th>hsi_band_430_nm</th>\n      <th>hsi_band_434_nm</th>\n      <th>hsi_band_439_nm</th>\n      <th>hsi_band_443_nm</th>\n      <th>hsi_band_448_nm</th>\n    </tr>\n  </thead>\n  <tbody>\n    <tr>\n      <th>0</th>\n      <td>1314.0</td>\n      <td>1369.0</td>\n      <td>1487.0</td>\n      <td>1572.0</td>\n      <td>1614.0</td>\n    </tr>\n    <tr>\n      <th>1</th>\n      <td>1301.0</td>\n      <td>1389.0</td>\n      <td>1501.0</td>\n      <td>1557.0</td>\n      <td>1679.0</td>\n    </tr>\n    <tr>\n      <th>2</th>\n      <td>1362.0</td>\n      <td>1494.0</td>\n      <td>1543.0</td>\n      <td>1546.0</td>\n      <td>1649.0</td>\n    </tr>\n  </tbody>\n</table>\n</div>"
     },
     "execution_count": 5,
     "metadata": {},
     "output_type": "execute_result"
    }
   ],
   "source": [
    "df_annotations.iloc[:3,:5]"
   ],
   "metadata": {
    "collapsed": false,
    "pycharm": {
     "name": "#%%\n"
    }
   }
  },
  {
   "cell_type": "code",
   "execution_count": 6,
   "outputs": [
    {
     "data": {
      "text/plain": "  hsi_band_925_nm thermal  dom label  \\\n0          2554.0     0.0  0.0  None   \n1          2551.0     0.0  0.0  None   \n2          2579.0     0.0  0.0  None   \n\n                                picture_name  \n0  Teilbild_Oldenburg_00000000_00000000_0_0_  \n1  Teilbild_Oldenburg_00000000_00000000_0_0_  \n2  Teilbild_Oldenburg_00000000_00000000_0_0_  ",
      "text/html": "<div>\n<style scoped>\n    .dataframe tbody tr th:only-of-type {\n        vertical-align: middle;\n    }\n\n    .dataframe tbody tr th {\n        vertical-align: top;\n    }\n\n    .dataframe thead th {\n        text-align: right;\n    }\n</style>\n<table border=\"1\" class=\"dataframe\">\n  <thead>\n    <tr style=\"text-align: right;\">\n      <th></th>\n      <th>hsi_band_925_nm</th>\n      <th>thermal</th>\n      <th>dom</th>\n      <th>label</th>\n      <th>picture_name</th>\n    </tr>\n  </thead>\n  <tbody>\n    <tr>\n      <th>0</th>\n      <td>2554.0</td>\n      <td>0.0</td>\n      <td>0.0</td>\n      <td>None</td>\n      <td>Teilbild_Oldenburg_00000000_00000000_0_0_</td>\n    </tr>\n    <tr>\n      <th>1</th>\n      <td>2551.0</td>\n      <td>0.0</td>\n      <td>0.0</td>\n      <td>None</td>\n      <td>Teilbild_Oldenburg_00000000_00000000_0_0_</td>\n    </tr>\n    <tr>\n      <th>2</th>\n      <td>2579.0</td>\n      <td>0.0</td>\n      <td>0.0</td>\n      <td>None</td>\n      <td>Teilbild_Oldenburg_00000000_00000000_0_0_</td>\n    </tr>\n  </tbody>\n</table>\n</div>"
     },
     "execution_count": 6,
     "metadata": {},
     "output_type": "execute_result"
    }
   ],
   "source": [
    "df_annotations.iloc[:3,-5:]"
   ],
   "metadata": {
    "collapsed": false,
    "pycharm": {
     "name": "#%%\n"
    }
   }
  },
  {
   "cell_type": "markdown",
   "source": [
    "Aufteilung in Trainings- und Testdaten"
   ],
   "metadata": {
    "collapsed": false,
    "pycharm": {
     "name": "#%% md\n"
    }
   }
  },
  {
   "cell_type": "code",
   "execution_count": 7,
   "outputs": [
    {
     "name": "stdout",
     "output_type": "stream",
     "text": [
      "X_train Shape: 924000\n",
      "X_test Shape: 396000\n",
      "y_train Shape: 924000\n",
      "y_test Shape:396000\n"
     ]
    }
   ],
   "source": [
    "X = df_annotations.drop(columns=['label', 'picture_name'])\n",
    "Y = df_annotations['label']\n",
    "\n",
    "from sklearn.model_selection import train_test_split\n",
    "X_train, X_test, y_train, y_test = train_test_split(X, Y, test_size=0.3, random_state=0)\n",
    "\n",
    "print(f'X_train Shape: {len(X_train)}\\nX_test Shape: {len(X_test)}\\ny_train Shape: {len(y_train)}\\ny_test Shape:{len(y_test)}')"
   ],
   "metadata": {
    "collapsed": false,
    "pycharm": {
     "name": "#%%\n"
    }
   }
  },
  {
   "cell_type": "markdown",
   "source": [
    "## Naive Bayes"
   ],
   "metadata": {
    "collapsed": false,
    "pycharm": {
     "name": "#%% md\n"
    }
   }
  },
  {
   "cell_type": "code",
   "execution_count": 8,
   "outputs": [
    {
     "name": "stdout",
     "output_type": "stream",
     "text": [
      "Accuracy: 38.845454545454544\n",
      "              precision    recall  f1-score   support\n",
      "\n",
      "        Haus       0.67      0.39      0.49     91559\n",
      "        None       0.36      0.07      0.12     96783\n",
      "    Schienen       0.05      0.88      0.09      6246\n",
      "      Strase       0.38      0.35      0.37     47542\n",
      "        Wald       0.53      0.86      0.66     81588\n",
      "       Wiese       0.53      0.26      0.34     72282\n",
      "\n",
      "    accuracy                           0.39    396000\n",
      "   macro avg       0.42      0.47      0.35    396000\n",
      "weighted avg       0.50      0.39      0.39    396000\n",
      "\n"
     ]
    },
    {
     "data": {
      "text/plain": "<Figure size 432x288 with 2 Axes>",
      "image/png": "[encoded data removed]"
     },
     "metadata": {
      "needs_background": "light"
     },
     "output_type": "display_data"
    }
   ],
   "source": [
    "from sklearn.metrics import accuracy_score, classification_report\n",
    "from sklearn.metrics import ConfusionMatrixDisplay\n",
    "from numpy import unique\n",
    "from sklearn.metrics import confusion_matrix\n",
    "from sklearn.naive_bayes import GaussianNB\n",
    "\n",
    "# save start time\n",
    "start = time.process_time()\n",
    "\n",
    "# Train\n",
    "NB = GaussianNB()\n",
    "NB.fit(X_train, y_train)\n",
    "\n",
    "# Test\n",
    "NB_pred = NB.predict(X_test)\n",
    "\n",
    "# save end time\n",
    "end = time.process_time()\n",
    "\n",
    "# calculate runtime\n",
    "run_time = end - start\n",
    "\n",
    "# Result\n",
    "print(f'Laufzeit: {run_time.__round__(1)}s')\n",
    "print(f\"Accuracy: {accuracy_score(y_test, NB_pred) * 100}\")\n",
    "print(classification_report(y_test, NB_pred))\n",
    "\n",
    "cm=confusion_matrix(y_test, NB_pred,labels=list(unique(NB_pred)),normalize='true')\n",
    "disp=ConfusionMatrixDisplay(cm,  display_labels=list(unique(NB_pred)))\n",
    "disp.plot(cmap=\"Blues\")\n",
    "plt.show()"
   ],
   "metadata": {
    "collapsed": false,
    "pycharm": {
     "name": "#%%\n"
    }
   }
  }
 ],
 "metadata": {
  "kernelspec": {
   "display_name": "Python 3",
   "language": "python",
   "name": "python3"
  },
  "language_info": {
   "codemirror_mode": {
    "name": "ipython",
    "version": 2
   },
   "file_extension": ".py",
   "mimetype": "text/x-python",
   "name": "python",
   "nbconvert_exporter": "python",
   "pygments_lexer": "ipython2",
   "version": "2.7.6"
  }
 },
 "nbformat": 4,
 "nbformat_minor": 0
}