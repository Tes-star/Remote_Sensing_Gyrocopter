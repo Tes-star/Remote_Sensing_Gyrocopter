{
 "cells": [
  {
   "cell_type": "markdown",
   "source": [
    "### Import Data"
   ],
   "metadata": {
    "collapsed": false,
    "pycharm": {
     "name": "#%% md\n"
    }
   }
  },
  {
   "cell_type": "code",
   "execution_count": 1,
   "outputs": [],
   "source": [
    "from Modelling.Baselines.Data_Preprocessing import import_labeled_data\n",
    "X,Y=import_labeled_data()"
   ],
   "metadata": {
    "collapsed": false,
    "pycharm": {
     "name": "#%%\n"
    }
   }
  },
  {
   "cell_type": "markdown",
   "source": [
    "### Split Data"
   ],
   "metadata": {
    "collapsed": false,
    "pycharm": {
     "name": "#%% md\n"
    }
   }
  },
  {
   "cell_type": "code",
   "execution_count": 2,
   "outputs": [
    {
     "name": "stdout",
     "output_type": "stream",
     "text": [
      "X_train Shape: 221200\n",
      "X_test Shape: 94800\n",
      "y_train Shape: 221200\n",
      "y_test Shape:94800\n"
     ]
    }
   ],
   "source": [
    "from sklearn.model_selection import train_test_split\n",
    "X_train, X_test, y_train, y_test = train_test_split(X, Y, test_size=0.30, stratify=Y)\n",
    "labels = {0:'None',1:'Wiese', 2:'Straße',3: 'Auto', 4:'See', 5:'Schienen', 6:'Haus', 7:'Wald'}\n",
    "\n",
    "#convert ID Labels to ID\n",
    "y_train = [labels[y] for y in y_train]\n",
    "y_test = [labels[y] for y in y_test]\n",
    "\n",
    "print(f'X_train Shape: {len(X_train)}\\nX_test Shape: {len(X_test)}\\ny_train Shape: {len(y_train)}\\ny_test Shape:{len(y_test)}')"
   ],
   "metadata": {
    "collapsed": false,
    "pycharm": {
     "name": "#%%\n"
    }
   }
  },
  {
   "cell_type": "markdown",
   "source": [
    "## K-Nearest Neighbor Classifier (K-NNC)"
   ],
   "metadata": {
    "collapsed": false,
    "pycharm": {
     "name": "#%% md\n"
    }
   }
  },
  {
   "cell_type": "code",
   "execution_count": 7,
   "outputs": [
    {
     "data": {
      "text/plain": "109"
     },
     "execution_count": 7,
     "metadata": {},
     "output_type": "execute_result"
    }
   ],
   "source": [],
   "metadata": {
    "collapsed": false,
    "pycharm": {
     "name": "#%%\n"
    }
   }
  },
  {
   "cell_type": "code",
   "execution_count": 17,
   "outputs": [
    {
     "name": "stdout",
     "output_type": "stream",
     "text": [
      "Accuracy: 34.934599156118146\n",
      "              precision    recall  f1-score   support\n",
      "\n",
      "        Auto       0.07      0.10      0.08      2187\n",
      "        Haus       0.43      0.43      0.43     19030\n",
      "        None       0.60      0.46      0.52     42099\n",
      "        Wald       0.05      0.90      0.09      1917\n",
      "       Wiese       0.70      0.13      0.22     29567\n",
      "\n",
      "    accuracy                           0.35     94800\n",
      "   macro avg       0.37      0.40      0.27     94800\n",
      "weighted avg       0.57      0.35      0.39     94800\n",
      "\n"
     ]
    },
    {
     "data": {
      "text/plain": "<sklearn.metrics._plot.confusion_matrix.ConfusionMatrixDisplay at 0x22c7434ad30>"
     },
     "execution_count": 17,
     "metadata": {},
     "output_type": "execute_result"
    },
    {
     "data": {
      "text/plain": "<Figure size 432x288 with 2 Axes>",
      "image/png": "[encoded data removed]"
     },
     "metadata": {
      "needs_background": "light"
     },
     "output_type": "display_data"
    }
   ],
   "source": [
    "from sklearn.metrics import accuracy_score, classification_report\n",
    "from sklearn.metrics import ConfusionMatrixDisplay\n",
    "from sklearn.neighbors import KNeighborsClassifier\n",
    "from numpy import unique\n",
    "from sklearn.metrics import confusion_matrix\n",
    "from sklearn.naive_bayes import GaussianNB, MultinomialNB\n",
    "\n",
    "# Train\n",
    "NB = GaussianNB(priors=[0.2,0.2,0.2,0.2,0.2])\n",
    "NB.fit(X_train, y_train)\n",
    "\n",
    "# Test\n",
    "NB_pred = NB.predict(X_test)\n",
    "\n",
    "# Result\n",
    "print(f\"Accuracy: {accuracy_score(y_test, NB_pred) * 100}\")\n",
    "print(classification_report(y_test, NB_pred))\n",
    "cm=confusion_matrix(y_test, NB_pred,labels=list(unique(NB_pred)),normalize='true')\n",
    "disp=ConfusionMatrixDisplay(cm,  display_labels=list(unique(NB_pred)))\n",
    "disp.plot(cmap=\"OrRd\")"
   ],
   "metadata": {
    "collapsed": false,
    "pycharm": {
     "name": "#%%\n"
    }
   }
  },
  {
   "cell_type": "markdown",
   "source": [
    "### K-Nearest Neighbor Classifier (K-NNC) with Scaled Data"
   ],
   "metadata": {
    "collapsed": false,
    "pycharm": {
     "name": "#%% md\n"
    }
   }
  },
  {
   "cell_type": "code",
   "execution_count": 94,
   "outputs": [
    {
     "name": "stdout",
     "output_type": "stream",
     "text": [
      "Accuracy: 65.23809523809524\n",
      "              precision    recall  f1-score   support\n",
      "\n",
      "        Auto       0.27      0.52      0.35        29\n",
      "        Haus       0.74      0.87      0.80        68\n",
      "        None       0.72      0.67      0.69       192\n",
      "        Wald       0.56      0.71      0.63        14\n",
      "       Wiese       0.71      0.53      0.61       117\n",
      "\n",
      "    accuracy                           0.65       420\n",
      "   macro avg       0.60      0.66      0.61       420\n",
      "weighted avg       0.68      0.65      0.66       420\n",
      "\n"
     ]
    },
    {
     "data": {
      "text/plain": "<sklearn.metrics._plot.confusion_matrix.ConfusionMatrixDisplay at 0x17188a6fdc0>"
     },
     "execution_count": 94,
     "metadata": {},
     "output_type": "execute_result"
    },
    {
     "data": {
      "text/plain": "<Figure size 432x288 with 2 Axes>",
      "image/png": "[encoded data removed]"
     },
     "metadata": {
      "needs_background": "light"
     },
     "output_type": "display_data"
    }
   ],
   "source": [
    "from Modelling.Baselines.Data_Preprocessing import scale_data\n",
    "from sklearn.metrics import accuracy_score, classification_report\n",
    "from sklearn.neighbors import KNeighborsClassifier\n",
    "\n",
    "#Scale data\n",
    "X_train=scale_data(X_train)\n",
    "X_test=scale_data(X_test)\n",
    "\n",
    "#Train\n",
    "knn = KNeighborsClassifier(n_neighbors=2)\n",
    "knn.fit(X_train, y_train)\n",
    "\n",
    "#Test\n",
    "knn_pred = knn.predict(X_test)\n",
    "\n",
    "#Result\n",
    "print(f\"Accuracy: {accuracy_score(y_test, knn_pred) * 100}\")\n",
    "print(classification_report(y_test, knn_pred))\n",
    "cm=confusion_matrix(y_test, knn_pred,labels=list(unique(knn_pred)),normalize='true')\n",
    "disp=ConfusionMatrixDisplay(cm,  display_labels=list(unique(knn_pred)))\n",
    "disp.plot(cmap=\"OrRd\")"
   ],
   "metadata": {
    "collapsed": false,
    "pycharm": {
     "name": "#%%\n"
    }
   }
  },
  {
   "cell_type": "markdown",
   "source": [],
   "metadata": {
    "collapsed": false,
    "pycharm": {
     "name": "#%% md\n"
    }
   }
  },
  {
   "cell_type": "code",
   "execution_count": 20,
   "outputs": [
    {
     "data": {
      "text/plain": "array([ 5104., 44403., 98229.,  4474., 68990.])"
     },
     "execution_count": 20,
     "metadata": {},
     "output_type": "execute_result"
    }
   ],
   "source": [
    "NB.class_count_"
   ],
   "metadata": {
    "collapsed": false,
    "pycharm": {
     "name": "#%%\n"
    }
   }
  },
  {
   "cell_type": "code",
   "execution_count": 95,
   "outputs": [
    {
     "name": "stdout",
     "output_type": "stream",
     "text": [
      "[LightGBM] [Warning] Accuracy may be bad since you didn't explicitly set num_leaves OR 2^max_depth > num_leaves. (num_leaves=31).\n"
     ]
    },
    {
     "ename": "TypeError",
     "evalue": "Wrong type(list) for label.\nIt should be list, numpy 1-D array or pandas Series",
     "output_type": "error",
     "traceback": [
      "\u001B[1;31m---------------------------------------------------------------------------\u001B[0m",
      "\u001B[1;31mTypeError\u001B[0m                                 Traceback (most recent call last)",
      "Input \u001B[1;32mIn [95]\u001B[0m, in \u001B[0;36m<cell line: 18>\u001B[1;34m()\u001B[0m\n\u001B[0;32m     15\u001B[0m params[\u001B[38;5;124m'\u001B[39m\u001B[38;5;124mmax_depth\u001B[39m\u001B[38;5;124m'\u001B[39m] \u001B[38;5;241m=\u001B[39m \u001B[38;5;241m15\u001B[39m\n\u001B[0;32m     16\u001B[0m params[\u001B[38;5;124m'\u001B[39m\u001B[38;5;124mnum_class\u001B[39m\u001B[38;5;124m'\u001B[39m] \u001B[38;5;241m=\u001B[39m \u001B[38;5;241m4\u001B[39m  \u001B[38;5;66;03m#no.of unique values in the target class not inclusive of the end value\u001B[39;00m\n\u001B[1;32m---> 18\u001B[0m clf \u001B[38;5;241m=\u001B[39m \u001B[43mlgb\u001B[49m\u001B[38;5;241;43m.\u001B[39;49m\u001B[43mtrain\u001B[49m\u001B[43m(\u001B[49m\u001B[43mparams\u001B[49m\u001B[43m,\u001B[49m\u001B[43m \u001B[49m\u001B[43md_train\u001B[49m\u001B[43m,\u001B[49m\u001B[43m \u001B[49m\u001B[38;5;241;43m100\u001B[39;49m\u001B[43m)\u001B[49m\n\u001B[0;32m     19\u001B[0m lgb_predictions \u001B[38;5;241m=\u001B[39m clf\u001B[38;5;241m.\u001B[39mpredict(X_test)\n\u001B[0;32m     20\u001B[0m \u001B[38;5;28mprint\u001B[39m(lgb_predictions[\u001B[38;5;241m1\u001B[39m], np\u001B[38;5;241m.\u001B[39margmax(lgb_predictions[\u001B[38;5;241m1\u001B[39m]))\n",
      "File \u001B[1;32m~\\PycharmProjects\\pds_gyrocopter\\env\\lib\\site-packages\\lightgbm\\engine.py:271\u001B[0m, in \u001B[0;36mtrain\u001B[1;34m(params, train_set, num_boost_round, valid_sets, valid_names, fobj, feval, init_model, feature_name, categorical_feature, early_stopping_rounds, evals_result, verbose_eval, learning_rates, keep_training_booster, callbacks)\u001B[0m\n\u001B[0;32m    269\u001B[0m \u001B[38;5;66;03m# construct booster\u001B[39;00m\n\u001B[0;32m    270\u001B[0m \u001B[38;5;28;01mtry\u001B[39;00m:\n\u001B[1;32m--> 271\u001B[0m     booster \u001B[38;5;241m=\u001B[39m \u001B[43mBooster\u001B[49m\u001B[43m(\u001B[49m\u001B[43mparams\u001B[49m\u001B[38;5;241;43m=\u001B[39;49m\u001B[43mparams\u001B[49m\u001B[43m,\u001B[49m\u001B[43m \u001B[49m\u001B[43mtrain_set\u001B[49m\u001B[38;5;241;43m=\u001B[39;49m\u001B[43mtrain_set\u001B[49m\u001B[43m)\u001B[49m\n\u001B[0;32m    272\u001B[0m     \u001B[38;5;28;01mif\u001B[39;00m is_valid_contain_train:\n\u001B[0;32m    273\u001B[0m         booster\u001B[38;5;241m.\u001B[39mset_train_data_name(train_data_name)\n",
      "File \u001B[1;32m~\\PycharmProjects\\pds_gyrocopter\\env\\lib\\site-packages\\lightgbm\\basic.py:2605\u001B[0m, in \u001B[0;36mBooster.__init__\u001B[1;34m(self, params, train_set, model_file, model_str, silent)\u001B[0m\n\u001B[0;32m   2598\u001B[0m     \u001B[38;5;28mself\u001B[39m\u001B[38;5;241m.\u001B[39mset_network(\n\u001B[0;32m   2599\u001B[0m         machines\u001B[38;5;241m=\u001B[39mmachines,\n\u001B[0;32m   2600\u001B[0m         local_listen_port\u001B[38;5;241m=\u001B[39mparams[\u001B[38;5;124m\"\u001B[39m\u001B[38;5;124mlocal_listen_port\u001B[39m\u001B[38;5;124m\"\u001B[39m],\n\u001B[0;32m   2601\u001B[0m         listen_time_out\u001B[38;5;241m=\u001B[39mparams\u001B[38;5;241m.\u001B[39mget(\u001B[38;5;124m\"\u001B[39m\u001B[38;5;124mtime_out\u001B[39m\u001B[38;5;124m\"\u001B[39m, \u001B[38;5;241m120\u001B[39m),\n\u001B[0;32m   2602\u001B[0m         num_machines\u001B[38;5;241m=\u001B[39mparams[\u001B[38;5;124m\"\u001B[39m\u001B[38;5;124mnum_machines\u001B[39m\u001B[38;5;124m\"\u001B[39m]\n\u001B[0;32m   2603\u001B[0m     )\n\u001B[0;32m   2604\u001B[0m \u001B[38;5;66;03m# construct booster object\u001B[39;00m\n\u001B[1;32m-> 2605\u001B[0m \u001B[43mtrain_set\u001B[49m\u001B[38;5;241;43m.\u001B[39;49m\u001B[43mconstruct\u001B[49m\u001B[43m(\u001B[49m\u001B[43m)\u001B[49m\n\u001B[0;32m   2606\u001B[0m \u001B[38;5;66;03m# copy the parameters from train_set\u001B[39;00m\n\u001B[0;32m   2607\u001B[0m params\u001B[38;5;241m.\u001B[39mupdate(train_set\u001B[38;5;241m.\u001B[39mget_params())\n",
      "File \u001B[1;32m~\\PycharmProjects\\pds_gyrocopter\\env\\lib\\site-packages\\lightgbm\\basic.py:1815\u001B[0m, in \u001B[0;36mDataset.construct\u001B[1;34m(self)\u001B[0m\n\u001B[0;32m   1812\u001B[0m             \u001B[38;5;28mself\u001B[39m\u001B[38;5;241m.\u001B[39m_set_init_score_by_predictor(\u001B[38;5;28mself\u001B[39m\u001B[38;5;241m.\u001B[39m_predictor, \u001B[38;5;28mself\u001B[39m\u001B[38;5;241m.\u001B[39mdata, used_indices)\n\u001B[0;32m   1813\u001B[0m \u001B[38;5;28;01melse\u001B[39;00m:\n\u001B[0;32m   1814\u001B[0m     \u001B[38;5;66;03m# create train\u001B[39;00m\n\u001B[1;32m-> 1815\u001B[0m     \u001B[38;5;28;43mself\u001B[39;49m\u001B[38;5;241;43m.\u001B[39;49m\u001B[43m_lazy_init\u001B[49m\u001B[43m(\u001B[49m\u001B[38;5;28;43mself\u001B[39;49m\u001B[38;5;241;43m.\u001B[39;49m\u001B[43mdata\u001B[49m\u001B[43m,\u001B[49m\u001B[43m \u001B[49m\u001B[43mlabel\u001B[49m\u001B[38;5;241;43m=\u001B[39;49m\u001B[38;5;28;43mself\u001B[39;49m\u001B[38;5;241;43m.\u001B[39;49m\u001B[43mlabel\u001B[49m\u001B[43m,\u001B[49m\n\u001B[0;32m   1816\u001B[0m \u001B[43m                    \u001B[49m\u001B[43mweight\u001B[49m\u001B[38;5;241;43m=\u001B[39;49m\u001B[38;5;28;43mself\u001B[39;49m\u001B[38;5;241;43m.\u001B[39;49m\u001B[43mweight\u001B[49m\u001B[43m,\u001B[49m\u001B[43m \u001B[49m\u001B[43mgroup\u001B[49m\u001B[38;5;241;43m=\u001B[39;49m\u001B[38;5;28;43mself\u001B[39;49m\u001B[38;5;241;43m.\u001B[39;49m\u001B[43mgroup\u001B[49m\u001B[43m,\u001B[49m\n\u001B[0;32m   1817\u001B[0m \u001B[43m                    \u001B[49m\u001B[43minit_score\u001B[49m\u001B[38;5;241;43m=\u001B[39;49m\u001B[38;5;28;43mself\u001B[39;49m\u001B[38;5;241;43m.\u001B[39;49m\u001B[43minit_score\u001B[49m\u001B[43m,\u001B[49m\u001B[43m \u001B[49m\u001B[43mpredictor\u001B[49m\u001B[38;5;241;43m=\u001B[39;49m\u001B[38;5;28;43mself\u001B[39;49m\u001B[38;5;241;43m.\u001B[39;49m\u001B[43m_predictor\u001B[49m\u001B[43m,\u001B[49m\n\u001B[0;32m   1818\u001B[0m \u001B[43m                    \u001B[49m\u001B[43msilent\u001B[49m\u001B[38;5;241;43m=\u001B[39;49m\u001B[38;5;28;43mself\u001B[39;49m\u001B[38;5;241;43m.\u001B[39;49m\u001B[43msilent\u001B[49m\u001B[43m,\u001B[49m\u001B[43m \u001B[49m\u001B[43mfeature_name\u001B[49m\u001B[38;5;241;43m=\u001B[39;49m\u001B[38;5;28;43mself\u001B[39;49m\u001B[38;5;241;43m.\u001B[39;49m\u001B[43mfeature_name\u001B[49m\u001B[43m,\u001B[49m\n\u001B[0;32m   1819\u001B[0m \u001B[43m                    \u001B[49m\u001B[43mcategorical_feature\u001B[49m\u001B[38;5;241;43m=\u001B[39;49m\u001B[38;5;28;43mself\u001B[39;49m\u001B[38;5;241;43m.\u001B[39;49m\u001B[43mcategorical_feature\u001B[49m\u001B[43m,\u001B[49m\u001B[43m \u001B[49m\u001B[43mparams\u001B[49m\u001B[38;5;241;43m=\u001B[39;49m\u001B[38;5;28;43mself\u001B[39;49m\u001B[38;5;241;43m.\u001B[39;49m\u001B[43mparams\u001B[49m\u001B[43m)\u001B[49m\n\u001B[0;32m   1820\u001B[0m \u001B[38;5;28;01mif\u001B[39;00m \u001B[38;5;28mself\u001B[39m\u001B[38;5;241m.\u001B[39mfree_raw_data:\n\u001B[0;32m   1821\u001B[0m     \u001B[38;5;28mself\u001B[39m\u001B[38;5;241m.\u001B[39mdata \u001B[38;5;241m=\u001B[39m \u001B[38;5;28;01mNone\u001B[39;00m\n",
      "File \u001B[1;32m~\\PycharmProjects\\pds_gyrocopter\\env\\lib\\site-packages\\lightgbm\\basic.py:1557\u001B[0m, in \u001B[0;36mDataset._lazy_init\u001B[1;34m(self, data, label, reference, weight, group, init_score, predictor, silent, feature_name, categorical_feature, params)\u001B[0m\n\u001B[0;32m   1555\u001B[0m         \u001B[38;5;28;01mraise\u001B[39;00m \u001B[38;5;167;01mTypeError\u001B[39;00m(\u001B[38;5;124mf\u001B[39m\u001B[38;5;124m'\u001B[39m\u001B[38;5;124mCannot initialize Dataset from \u001B[39m\u001B[38;5;132;01m{\u001B[39;00m\u001B[38;5;28mtype\u001B[39m(data)\u001B[38;5;241m.\u001B[39m\u001B[38;5;18m__name__\u001B[39m\u001B[38;5;132;01m}\u001B[39;00m\u001B[38;5;124m'\u001B[39m)\n\u001B[0;32m   1556\u001B[0m \u001B[38;5;28;01mif\u001B[39;00m label \u001B[38;5;129;01mis\u001B[39;00m \u001B[38;5;129;01mnot\u001B[39;00m \u001B[38;5;28;01mNone\u001B[39;00m:\n\u001B[1;32m-> 1557\u001B[0m     \u001B[38;5;28;43mself\u001B[39;49m\u001B[38;5;241;43m.\u001B[39;49m\u001B[43mset_label\u001B[49m\u001B[43m(\u001B[49m\u001B[43mlabel\u001B[49m\u001B[43m)\u001B[49m\n\u001B[0;32m   1558\u001B[0m \u001B[38;5;28;01mif\u001B[39;00m \u001B[38;5;28mself\u001B[39m\u001B[38;5;241m.\u001B[39mget_label() \u001B[38;5;129;01mis\u001B[39;00m \u001B[38;5;28;01mNone\u001B[39;00m:\n\u001B[0;32m   1559\u001B[0m     \u001B[38;5;28;01mraise\u001B[39;00m \u001B[38;5;167;01mValueError\u001B[39;00m(\u001B[38;5;124m\"\u001B[39m\u001B[38;5;124mLabel should not be None\u001B[39m\u001B[38;5;124m\"\u001B[39m)\n",
      "File \u001B[1;32m~\\PycharmProjects\\pds_gyrocopter\\env\\lib\\site-packages\\lightgbm\\basic.py:2163\u001B[0m, in \u001B[0;36mDataset.set_label\u001B[1;34m(self, label)\u001B[0m\n\u001B[0;32m   2161\u001B[0m \u001B[38;5;28mself\u001B[39m\u001B[38;5;241m.\u001B[39mlabel \u001B[38;5;241m=\u001B[39m label\n\u001B[0;32m   2162\u001B[0m \u001B[38;5;28;01mif\u001B[39;00m \u001B[38;5;28mself\u001B[39m\u001B[38;5;241m.\u001B[39mhandle \u001B[38;5;129;01mis\u001B[39;00m \u001B[38;5;129;01mnot\u001B[39;00m \u001B[38;5;28;01mNone\u001B[39;00m:\n\u001B[1;32m-> 2163\u001B[0m     label \u001B[38;5;241m=\u001B[39m \u001B[43mlist_to_1d_numpy\u001B[49m\u001B[43m(\u001B[49m\u001B[43m_label_from_pandas\u001B[49m\u001B[43m(\u001B[49m\u001B[43mlabel\u001B[49m\u001B[43m)\u001B[49m\u001B[43m,\u001B[49m\u001B[43m \u001B[49m\u001B[43mname\u001B[49m\u001B[38;5;241;43m=\u001B[39;49m\u001B[38;5;124;43m'\u001B[39;49m\u001B[38;5;124;43mlabel\u001B[39;49m\u001B[38;5;124;43m'\u001B[39;49m\u001B[43m)\u001B[49m\n\u001B[0;32m   2164\u001B[0m     \u001B[38;5;28mself\u001B[39m\u001B[38;5;241m.\u001B[39mset_field(\u001B[38;5;124m'\u001B[39m\u001B[38;5;124mlabel\u001B[39m\u001B[38;5;124m'\u001B[39m, label)\n\u001B[0;32m   2165\u001B[0m     \u001B[38;5;28mself\u001B[39m\u001B[38;5;241m.\u001B[39mlabel \u001B[38;5;241m=\u001B[39m \u001B[38;5;28mself\u001B[39m\u001B[38;5;241m.\u001B[39mget_field(\u001B[38;5;124m'\u001B[39m\u001B[38;5;124mlabel\u001B[39m\u001B[38;5;124m'\u001B[39m)  \u001B[38;5;66;03m# original values can be modified at cpp side\u001B[39;00m\n",
      "File \u001B[1;32m~\\PycharmProjects\\pds_gyrocopter\\env\\lib\\site-packages\\lightgbm\\basic.py:189\u001B[0m, in \u001B[0;36mlist_to_1d_numpy\u001B[1;34m(data, dtype, name)\u001B[0m\n\u001B[0;32m    187\u001B[0m     \u001B[38;5;28;01mreturn\u001B[39;00m np\u001B[38;5;241m.\u001B[39marray(data, dtype\u001B[38;5;241m=\u001B[39mdtype, copy\u001B[38;5;241m=\u001B[39m\u001B[38;5;28;01mFalse\u001B[39;00m)  \u001B[38;5;66;03m# SparseArray should be supported as well\u001B[39;00m\n\u001B[0;32m    188\u001B[0m \u001B[38;5;28;01melse\u001B[39;00m:\n\u001B[1;32m--> 189\u001B[0m     \u001B[38;5;28;01mraise\u001B[39;00m \u001B[38;5;167;01mTypeError\u001B[39;00m(\u001B[38;5;124mf\u001B[39m\u001B[38;5;124m\"\u001B[39m\u001B[38;5;124mWrong type(\u001B[39m\u001B[38;5;132;01m{\u001B[39;00m\u001B[38;5;28mtype\u001B[39m(data)\u001B[38;5;241m.\u001B[39m\u001B[38;5;18m__name__\u001B[39m\u001B[38;5;132;01m}\u001B[39;00m\u001B[38;5;124m) for \u001B[39m\u001B[38;5;132;01m{\u001B[39;00mname\u001B[38;5;132;01m}\u001B[39;00m\u001B[38;5;124m.\u001B[39m\u001B[38;5;130;01m\\n\u001B[39;00m\u001B[38;5;124m\"\u001B[39m\n\u001B[0;32m    190\u001B[0m                     \u001B[38;5;124m\"\u001B[39m\u001B[38;5;124mIt should be list, numpy 1-D array or pandas Series\u001B[39m\u001B[38;5;124m\"\u001B[39m)\n",
      "\u001B[1;31mTypeError\u001B[0m: Wrong type(list) for label.\nIt should be list, numpy 1-D array or pandas Series"
     ]
    }
   ],
   "source": [
    "from numpy import unique\n",
    "\n",
    "unique(Y)\n",
    "from matplotlib.colors import ListedColormap\n",
    "import numpy as np\n",
    "import lightgbm as lgb\n",
    "\n",
    "d_train = lgb.Dataset(X_train, label=y_train)\n",
    "\n",
    "params = {}\n",
    "params['learning_rate'] = 0.03\n",
    "params['boosting_type'] = 'gbdt'  #GradientBoostingDecisionTree\n",
    "params['objective'] = 'multiclass'  #Multi-class target feature\n",
    "params['metric'] = 'multi_logloss'  #metric for multi-class\n",
    "params['max_depth'] = 15\n",
    "params['num_class'] = 4  #no.of unique values in the target class not inclusive of the end value\n",
    "\n",
    "clf = lgb.train(params, d_train, 100)\n",
    "lgb_predictions = clf.predict(X_test)\n",
    "print(lgb_predictions[1], np.argmax(lgb_predictions[1]))\n",
    "# lbg_pred = [np.argmax(x) for x in lgb_predictions]\n",
    "# np.array(lbg_pred).shape\n",
    "\n",
    "lgb_pred = np.argmax(lgb_predictions, axis=1)\n",
    "lgb_pred.shape\n",
    "print(f\"Accuracy: {accuracy_score(y_test, lgb_pred) * 100}\")\n",
    "print(classification_report(y_test, lgb_pred))\n",
    "cm=confusion_matrix(y_test, knn_pred,labels=list(unique(knn_pred)),normalize='true')\n",
    "disp=ConfusionMatrixDisplay(cm,  display_labels=list(unique(knn_pred)))\n",
    "disp.plot(cmap=\"OrRd\")\n",
    "# Visualize Classification Map of LightGBM"
   ],
   "metadata": {
    "collapsed": false,
    "pycharm": {
     "name": "#%%\n"
    }
   }
  }
 ],
 "metadata": {
  "kernelspec": {
   "display_name": "Python 3",
   "language": "python",
   "name": "python3"
  },
  "language_info": {
   "codemirror_mode": {
    "name": "ipython",
    "version": 2
   },
   "file_extension": ".py",
   "mimetype": "text/x-python",
   "name": "python",
   "nbconvert_exporter": "python",
   "pygments_lexer": "ipython2",
   "version": "2.7.6"
  }
 },
 "nbformat": 4,
 "nbformat_minor": 0
}