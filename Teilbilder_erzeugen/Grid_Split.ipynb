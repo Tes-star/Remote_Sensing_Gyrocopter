{
 "cells": [
  {
   "cell_type": "code",
   "execution_count": 1,
   "outputs": [],
   "source": [
    "# Import Packages\n",
    "\n",
    "import os\n",
    "\n",
    "from spectral import *"
   ],
   "metadata": {
    "collapsed": false,
    "pycharm": {
     "name": "#%%\n"
    }
   }
  },
  {
   "cell_type": "code",
   "execution_count": 2,
   "outputs": [
    {
     "data": {
      "text/plain": "\tData Source:   'C:/Users\\vdwti/Nextcloud/Freigaben/Projekt_Data_Science_1_SS22/Daten_Gyrocopter/Zusammengefuehrte_Daten/Oldenburg_combined.dat'\n\t# Rows:           1980\n\t# Samples:        3500\n\t# Bands:           109\n\tInterleave:        BSQ\n\tQuantization:  32 bits\n\tData format:   float32"
     },
     "execution_count": 2,
     "metadata": {},
     "output_type": "execute_result"
    }
   ],
   "source": [
    "from Daten_einlesen.find_path_nextcloud import find_path_nextcloud\n",
    "\n",
    "path_nextcloud = find_path_nextcloud()\n",
    "path_hdr = path_nextcloud + \"Daten_Gyrocopter/Zusammengefuehrte_Daten/Oldenburg_combined.hdr\"\n",
    "path_dat = path_nextcloud + \"Daten_Gyrocopter/Zusammengefuehrte_Daten/Oldenburg_combined.dat\"\n",
    "\n",
    "# Zusammengeführtes Bild öffnen\n",
    "img = envi.open(file=path_hdr, image=path_dat)\n",
    "\n",
    "img"
   ],
   "metadata": {
    "collapsed": false,
    "pycharm": {
     "name": "#%%\n"
    }
   }
  },
  {
   "cell_type": "code",
   "execution_count": 3,
   "outputs": [],
   "source": [
    "#Gridgröße definieren\n",
    "windowsize_r = 500\n",
    "windowsize_c = 500\n",
    "\n",
    "#Grid Order anlegen\n",
    "grid_folder=path_nextcloud + \"Daten_Gyrocopter/Teilbilder_Oldenburg/grid_\"+str(windowsize_r)+\"_\"+str(windowsize_c)\n",
    "if not os.path.exists(grid_folder):\n",
    "    os.makedirs(grid_folder)"
   ],
   "metadata": {
    "collapsed": false,
    "pycharm": {
     "name": "#%%\n"
    }
   }
  },
  {
   "cell_type": "code",
   "execution_count": 4,
   "outputs": [
    {
     "name": "stdout",
     "output_type": "stream",
     "text": [
      "0 / 0\n",
      "0 / 500\n",
      "0 / 1000\n",
      "0 / 1500\n",
      "0 / 2000\n",
      "0 / 2500\n",
      "0 / 3000\n",
      "500 / 0\n",
      "500 / 500\n",
      "500 / 1000\n",
      "500 / 1500\n",
      "500 / 2000\n",
      "500 / 2500\n",
      "500 / 3000\n",
      "1000 / 0\n",
      "1000 / 500\n",
      "1000 / 1000\n",
      "1000 / 1500\n",
      "1000 / 2000\n",
      "1000 / 2500\n",
      "1000 / 3000\n",
      "1500 / 0\n",
      "1500 / 500\n",
      "1500 / 1000\n",
      "1500 / 1500\n",
      "1500 / 2000\n",
      "1500 / 2500\n",
      "1500 / 3000\n",
      "Fertig!\n"
     ]
    }
   ],
   "source": [
    "#Image in Teilbilder aufteilen\n",
    "grid_r=0 #gridrow\n",
    "grid_c=0 #gridcolumn\n",
    "for r in range(0, img.shape[0] , windowsize_r): # im Intervall windowsize_r über Bildmatrix Reihen iterieren\n",
    "    for c in range(0, img.shape[1] , windowsize_c): # im Intervall windowsize_c über Bildmatrix Spalten iterieren\n",
    "        window = img[r:r + windowsize_r, c:c + windowsize_c, :] # Teilbild auswählen\n",
    "        print(str(r), '/' , str(c))\n",
    "        path_window = grid_folder + \"/Teilbild_Oldenburg_\"+str(grid_r).zfill(8)+\"_\"+str(grid_c).zfill(8)+\"_\" + str(r) + \"_\" + str(c) +\"_.hdr\" # Namenskonvention\n",
    "        envi.save_image(hdr_file = path_window, image = window,\n",
    "                        dtype = \"float32\", ext = '.dat', interleave = 'bsq',\n",
    "                        metadata=img.metadata, force = True)\n",
    "        # next column\n",
    "        grid_c=grid_c+1\n",
    "    # next row\n",
    "    grid_r=grid_r+1\n",
    "    #reset grid_c\n",
    "    grid_c=0\n",
    "print(\"Fertig!\")"
   ],
   "metadata": {
    "collapsed": false,
    "pycharm": {
     "name": "#%%\n"
    }
   }
  }
 ],
 "metadata": {
  "kernelspec": {
   "display_name": "Python 3",
   "language": "python",
   "name": "python3"
  },
  "language_info": {
   "codemirror_mode": {
    "name": "ipython",
    "version": 2
   },
   "file_extension": ".py",
   "mimetype": "text/x-python",
   "name": "python",
   "nbconvert_exporter": "python",
   "pygments_lexer": "ipython2",
   "version": "2.7.6"
  }
 },
 "nbformat": 4,
 "nbformat_minor": 0
}