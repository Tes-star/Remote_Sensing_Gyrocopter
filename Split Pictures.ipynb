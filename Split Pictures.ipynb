{
 "cells": [
  {
   "cell_type": "code",
   "execution_count": 2,
   "metadata": {
    "collapsed": true
   },
   "outputs": [
    {
     "name": "stdout",
     "output_type": "stream",
     "text": [
      "C:\\Users\\fgrassxx\\Nextcloud\\Master_Data_Science\\2_Semester\\Projekt_Data_Science_1_SS22\\Daten_Gyrocopter\\Dessau\\Hyperspektral\n"
     ]
    }
   ],
   "source": [
    "import os\n",
    "import tifffile\n",
    "\n",
    "\n",
    "%cd C:\\Users\\fgrassxx\\Nextcloud\\Master_Data_Science\\2_Semester\\Projekt_Data_Science_1_SS22\\Daten_Gyrocopter\\Dessau\\Hyperspektral"
   ]
  },
  {
   "cell_type": "code",
   "execution_count": 6,
   "outputs": [
    {
     "name": "stdout",
     "output_type": "stream",
     "text": [
      "0/9911\n",
      "300/9911\n",
      "600/9911\n",
      "900/9911\n",
      "1200/9911\n",
      "1500/9911\n",
      "1800/9911\n",
      "2100/9911\n",
      "2400/9911\n",
      "2700/9911\n",
      "3000/9911\n",
      "3300/9911\n",
      "3600/9911\n",
      "3900/9911\n",
      "4200/9911\n",
      "4500/9911\n",
      "4800/9911\n",
      "5100/9911\n",
      "5400/9911\n",
      "5700/9911\n",
      "6000/9911\n",
      "6300/9911\n",
      "6600/9911\n",
      "6900/9911\n",
      "7200/9911\n",
      "7500/9911\n",
      "7800/9911\n",
      "8100/9911\n",
      "8400/9911\n",
      "8700/9911\n",
      "9000/9911\n",
      "9300/9911\n",
      "9600/9911\n",
      "9900/9911\n"
     ]
    }
   ],
   "source": [
    "filename=r'Dessau_unsigned_mosaik_all.tif'\n",
    "dir_in=r'C:\\Users\\fgrassxx\\Nextcloud\\Master_Data_Science\\2_Semester\\Projekt_Data_Science_1_SS22\\Daten_Gyrocopter\\Dessau\\Hyperspektral'\n",
    "dir_out=r'C:\\Users\\fgrassxx\\Desktop\\Dessau_Hyperspektral'\n",
    "\n",
    "name, ext = os.path.splitext(filename)\n",
    "img = tifffile.imread(os.path.join(dir_in, filename))\n",
    "\n",
    "windowsize_r = 300\n",
    "windowsize_c = 300\n",
    "coordX=306984.850\n",
    "coordY=5749110.050\n",
    "i = 0\n",
    "a=img.shape\n",
    "\n",
    "\n",
    "for r in range(0, img.shape[1] - windowsize_r, windowsize_r):\n",
    "    print(str(r)+\"/\"+str(img.shape[1] - windowsize_r))\n",
    "\n",
    "    for c in range(0, img.shape[2] - windowsize_c, windowsize_c):\n",
    "\n",
    "\n",
    "\n",
    "        window = img[0:80,r:r + windowsize_r, c:c + windowsize_c]\n",
    "        out = os.path.join(dir_out, f'{name}_{i}_{coordX+r*3}_{coordY+c*3}_{ext}')\n",
    "        'leere Bereiche nicht abspeichern'\n",
    "        if i==0:\n",
    "            BlackSqaure=window\n",
    "        if (window!=BlackSqaure).all():\n",
    "            tifffile.imsave(out, window,photometric ='miniswhite',planarconfig=2 )\n",
    "        i = i + 1"
   ],
   "metadata": {
    "collapsed": false,
    "pycharm": {
     "name": "#%%\n"
    }
   }
  },
  {
   "cell_type": "code",
   "execution_count": 7,
   "outputs": [],
   "source": [
    "tifffile.imsave(out, window,photometric ='miniswhite',planarconfig=2,metadata={'XPosition':306984,'YPosition':5749110})"
   ],
   "metadata": {
    "collapsed": false,
    "pycharm": {
     "name": "#%%#\n"
    }
   }
  },
  {
   "cell_type": "code",
   "execution_count": 8,
   "outputs": [],
   "source": [
    "img=0"
   ],
   "metadata": {
    "collapsed": false,
    "pycharm": {
     "name": "#%%\n"
    }
   }
  },
  {
   "cell_type": "code",
   "execution_count": null,
   "outputs": [],
   "source": [],
   "metadata": {
    "collapsed": false,
    "pycharm": {
     "name": "#%%\n"
    }
   }
  }
 ],
 "metadata": {
  "kernelspec": {
   "display_name": "Python 3",
   "language": "python",
   "name": "python3"
  },
  "language_info": {
   "codemirror_mode": {
    "name": "ipython",
    "version": 2
   },
   "file_extension": ".py",
   "mimetype": "text/x-python",
   "name": "python",
   "nbconvert_exporter": "python",
   "pygments_lexer": "ipython2",
   "version": "2.7.6"
  }
 },
 "nbformat": 4,
 "nbformat_minor": 0
}