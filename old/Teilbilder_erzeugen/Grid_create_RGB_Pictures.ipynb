{
 "cells": [
  {
   "cell_type": "code",
   "execution_count": 54,
   "outputs": [],
   "source": [
    "# Import Packages\n",
    "\n",
    "import os\n",
    "from spectral import *"
   ],
   "metadata": {
    "collapsed": false,
    "pycharm": {
     "name": "#%%\n"
    }
   }
  },
  {
   "cell_type": "code",
   "execution_count": 55,
   "outputs": [],
   "source": [
    "from Daten_einlesen.find_path_nextcloud import find_path_nextcloud\n",
    "path_nextcloud = find_path_nextcloud()\n"
   ],
   "metadata": {
    "collapsed": false,
    "pycharm": {
     "name": "#%%\n"
    }
   }
  },
  {
   "cell_type": "code",
   "execution_count": 56,
   "outputs": [],
   "source": [
    "#festlegen für welches Grid RGB Bilder erzeugt werden sollen\n",
    "windowsize_r=500\n",
    "windowsize_c=500"
   ],
   "metadata": {
    "collapsed": false,
    "pycharm": {
     "name": "#%%\n"
    }
   }
  },
  {
   "cell_type": "code",
   "execution_count": null,
   "outputs": [],
   "source": [
    "grid_folder=path_nextcloud + \"Daten_Gyrocopter/Teilbilder_Oldenburg/grid_\"+str(windowsize_r)+\"_\"+str(windowsize_c)\n",
    "\n",
    "#liste aller Dateien in Gridordner erstellen\n",
    "files = os.listdir(grid_folder)\n",
    "\n",
    "#Aus Liste files .hdr dateien und grid dateien entfernen\n",
    "for file in files:\n",
    "    if not file.endswith('.hdr'):\n",
    "        files.remove(file)\n",
    "for file in files:\n",
    "    if file.startswith('grid_image'):\n",
    "        files.remove(file)\n",
    "\n",
    "#rgb Ordner erstellen\n",
    "path_grid_rgb=grid_folder+'/rgb'\n",
    "if not os.path.exists(path_grid_rgb):\n",
    "    os.makedirs(path_grid_rgb)\n",
    "\n",
    "#rgbs erstellen\n",
    "for file in files:\n",
    "    # Daten für Namenskonvention\n",
    "    file_split=file.split('_')\n",
    "    grid_pos_r=int(file_split[2])*windowsize_r #Gridposition row\n",
    "    grid_pos_c=int(file_split[3])*windowsize_c #Gridposition column\n",
    "    #Namenskonvention durchführen\n",
    "    rgb_name= path_grid_rgb + \"/Teilbild_Oldenburg_\"+str(file_split[2]).zfill(8)+\"_\"+str(file_split[3]).zfill(8)+\"_\" + str(grid_pos_r) + \"_\" + str(grid_pos_c) +\"_.jpg\" #\n",
    "\n",
    "    #Pfade definieren\n",
    "    path_hdr = grid_folder + '/' + file[:-4]+'.hdr'\n",
    "    path_dat = grid_folder + '/'+ file[:-4]+'.dat'\n",
    "\n",
    "    #Teilbilder laden\n",
    "    img = envi.open(file=path_hdr, image=path_dat)\n",
    "    #rgb für Teilbilder erstellen\n",
    "    save_rgb(filename = rgb_name, data = img, bands=(59,26,1))"
   ],
   "metadata": {
    "collapsed": false,
    "pycharm": {
     "name": "#%%\n"
    }
   }
  }
 ],
 "metadata": {
  "kernelspec": {
   "display_name": "Python 3",
   "language": "python",
   "name": "python3"
  },
  "language_info": {
   "codemirror_mode": {
    "name": "ipython",
    "version": 2
   },
   "file_extension": ".py",
   "mimetype": "text/x-python",
   "name": "python",
   "nbconvert_exporter": "python",
   "pygments_lexer": "ipython2",
   "version": "2.7.6"
  }
 },
 "nbformat": 4,
 "nbformat_minor": 0
}