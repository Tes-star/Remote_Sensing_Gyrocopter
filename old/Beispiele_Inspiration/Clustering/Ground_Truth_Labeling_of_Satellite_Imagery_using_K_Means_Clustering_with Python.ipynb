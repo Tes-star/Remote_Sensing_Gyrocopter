{
 "nbformat": 4,
 "nbformat_minor": 0,
 "metadata": {
  "colab": {
   "name": "Ground Truth Labeling of Satellite Imagery using K-Means Clustering with Python.ipynb",
   "provenance": [],
   "collapsed_sections": [],
   "mount_file_id": "1tvy0xphxglLB0pR5ort9Xn16ThWN_vJf",
   "authorship_tag": "ABX9TyPEFqgu3hPJFW3Gh9kIJzDd",
   "include_colab_link": true
  },
  "kernelspec": {
   "name": "python3",
   "language": "python",
   "display_name": "Python 3"
  }
 },
 "cells": [
  {
   "cell_type": "markdown",
   "metadata": {
    "id": "view-in-github",
    "colab_type": "text"
   },
   "source": [
    "<a href=\"https://colab.research.google.com/github/syamkakarla98/Satellite_Imagery_Analysis/blob/main/Clustering/Ground_Truth_Labeling_of_Satellite_Imagery_using_K_Means_Clustering_with%C2%A0Python.ipynb\" target=\"_parent\"><img src=\"https://colab.research.google.com/assets/colab-badge.svg\" alt=\"Open In Colab\"/></a>"
   ]
  },
  {
   "cell_type": "markdown",
   "metadata": {
    "id": "_2RnVouccvZd"
   },
   "source": [
    "# <font color='tomato'>Ground Truth Labeling of Satellite Imagery using K-Means Clustering with Python</font>"
   ]
  },
  {
   "cell_type": "code",
   "metadata": {
    "colab": {
     "base_uri": "https://localhost:8080/"
    },
    "id": "3V4KlmSNAgT8",
    "outputId": "6a514f23-cdc3-40dc-b808-860b533e80cc"
   },
   "source": [
    "!pip install earthpy "
   ],
   "execution_count": 1,
   "outputs": [
    {
     "name": "stdout",
     "output_type": "stream",
     "text": [
      "Requirement already satisfied: earthpy in c:\\users\\fgrassxx\\appdata\\local\\programs\\python\\python36\\lib\\site-packages (0.9.4)\n",
      "Requirement already satisfied: rasterio in c:\\users\\fgrassxx\\appdata\\local\\programs\\python\\python36\\lib\\site-packages (from earthpy) (1.1.8)\n",
      "Requirement already satisfied: geopandas in c:\\users\\fgrassxx\\appdata\\local\\programs\\python\\python36\\lib\\site-packages (from earthpy) (0.9.0)\n",
      "Requirement already satisfied: scikit-image in c:\\users\\fgrassxx\\appdata\\local\\programs\\python\\python36\\lib\\site-packages (from earthpy) (0.17.2)\n",
      "Requirement already satisfied: requests in c:\\users\\fgrassxx\\appdata\\local\\programs\\python\\python36\\lib\\site-packages (from earthpy) (2.27.1)\n",
      "Requirement already satisfied: matplotlib>=2.0.0 in c:\\users\\fgrassxx\\appdata\\local\\programs\\python\\python36\\lib\\site-packages (from earthpy) (3.3.4)\n",
      "Requirement already satisfied: numpy>=1.14.0 in c:\\users\\fgrassxx\\appdata\\local\\programs\\python\\python36\\lib\\site-packages (from earthpy) (1.19.5+vanilla)\n",
      "Requirement already satisfied: pillow>=6.2.0 in c:\\users\\fgrassxx\\appdata\\local\\programs\\python\\python36\\lib\\site-packages (from matplotlib>=2.0.0->earthpy) (8.4.0)\n",
      "Requirement already satisfied: pyparsing!=2.0.4,!=2.1.2,!=2.1.6,>=2.0.3 in c:\\users\\fgrassxx\\appdata\\local\\programs\\python\\python36\\lib\\site-packages (from matplotlib>=2.0.0->earthpy) (3.0.7)\n",
      "Requirement already satisfied: python-dateutil>=2.1 in c:\\users\\fgrassxx\\appdata\\local\\programs\\python\\python36\\lib\\site-packages (from matplotlib>=2.0.0->earthpy) (2.8.2)\n",
      "Requirement already satisfied: kiwisolver>=1.0.1 in c:\\users\\fgrassxx\\appdata\\local\\programs\\python\\python36\\lib\\site-packages (from matplotlib>=2.0.0->earthpy) (1.3.1)\n",
      "Requirement already satisfied: cycler>=0.10 in c:\\users\\fgrassxx\\appdata\\local\\programs\\python\\python36\\lib\\site-packages (from matplotlib>=2.0.0->earthpy) (0.11.0)\n",
      "Requirement already satisfied: pandas>=0.24.0 in c:\\users\\fgrassxx\\appdata\\local\\programs\\python\\python36\\lib\\site-packages (from geopandas->earthpy) (1.1.5)\n",
      "Requirement already satisfied: fiona>=1.8 in c:\\users\\fgrassxx\\appdata\\local\\programs\\python\\python36\\lib\\site-packages (from geopandas->earthpy) (1.8.18)\n",
      "Requirement already satisfied: shapely>=1.6 in c:\\users\\fgrassxx\\appdata\\local\\programs\\python\\python36\\lib\\site-packages (from geopandas->earthpy) (1.7.1)\n",
      "Requirement already satisfied: pyproj>=2.2.0 in c:\\users\\fgrassxx\\appdata\\local\\programs\\python\\python36\\lib\\site-packages (from geopandas->earthpy) (3.0.1)\n",
      "Requirement already satisfied: click-plugins in c:\\users\\fgrassxx\\appdata\\local\\programs\\python\\python36\\lib\\site-packages (from rasterio->earthpy) (1.1.1)\n",
      "Requirement already satisfied: cligj>=0.5 in c:\\users\\fgrassxx\\appdata\\local\\programs\\python\\python36\\lib\\site-packages (from rasterio->earthpy) (0.7.2)\n",
      "Requirement already satisfied: attrs in c:\\users\\fgrassxx\\appdata\\local\\programs\\python\\python36\\lib\\site-packages (from rasterio->earthpy) (21.4.0)\n",
      "Requirement already satisfied: gdal~=3.1.4 in c:\\users\\fgrassxx\\appdata\\local\\programs\\python\\python36\\lib\\site-packages (from rasterio->earthpy) (3.1.4)\n",
      "Requirement already satisfied: click>=4.0 in c:\\users\\fgrassxx\\appdata\\local\\programs\\python\\python36\\lib\\site-packages (from rasterio->earthpy) (7.1.2)\n",
      "Requirement already satisfied: affine in c:\\users\\fgrassxx\\appdata\\local\\programs\\python\\python36\\lib\\site-packages (from rasterio->earthpy) (2.3.1)\n",
      "Requirement already satisfied: snuggs>=1.4.1 in c:\\users\\fgrassxx\\appdata\\local\\programs\\python\\python36\\lib\\site-packages (from rasterio->earthpy) (1.4.7)\n",
      "Requirement already satisfied: charset-normalizer~=2.0.0 in c:\\users\\fgrassxx\\appdata\\local\\programs\\python\\python36\\lib\\site-packages (from requests->earthpy) (2.0.12)\n",
      "Requirement already satisfied: urllib3<1.27,>=1.21.1 in c:\\users\\fgrassxx\\appdata\\local\\programs\\python\\python36\\lib\\site-packages (from requests->earthpy) (1.26.9)\n",
      "Requirement already satisfied: idna<4,>=2.5 in c:\\users\\fgrassxx\\appdata\\local\\programs\\python\\python36\\lib\\site-packages (from requests->earthpy) (3.3)\n",
      "Requirement already satisfied: certifi>=2017.4.17 in c:\\users\\fgrassxx\\appdata\\local\\programs\\python\\python36\\lib\\site-packages (from requests->earthpy) (2021.10.8)\n",
      "Requirement already satisfied: PyWavelets>=1.1.1 in c:\\users\\fgrassxx\\appdata\\local\\programs\\python\\python36\\lib\\site-packages (from scikit-image->earthpy) (1.1.1)\n",
      "Requirement already satisfied: networkx>=2.0 in c:\\users\\fgrassxx\\appdata\\local\\programs\\python\\python36\\lib\\site-packages (from scikit-image->earthpy) (2.5.1)\n",
      "Requirement already satisfied: imageio>=2.3.0 in c:\\users\\fgrassxx\\appdata\\local\\programs\\python\\python36\\lib\\site-packages (from scikit-image->earthpy) (2.15.0)\n",
      "Requirement already satisfied: tifffile>=2019.7.26 in c:\\users\\fgrassxx\\appdata\\local\\programs\\python\\python36\\lib\\site-packages (from scikit-image->earthpy) (2020.9.3)\n",
      "Requirement already satisfied: scipy>=1.0.1 in c:\\users\\fgrassxx\\appdata\\local\\programs\\python\\python36\\lib\\site-packages (from scikit-image->earthpy) (1.5.4)\n",
      "Requirement already satisfied: six>=1.7 in c:\\users\\fgrassxx\\appdata\\local\\programs\\python\\python36\\lib\\site-packages (from fiona>=1.8->geopandas->earthpy) (1.16.0)\n",
      "Requirement already satisfied: munch in c:\\users\\fgrassxx\\appdata\\local\\programs\\python\\python36\\lib\\site-packages (from fiona>=1.8->geopandas->earthpy) (2.5.0)\n",
      "Requirement already satisfied: decorator<5,>=4.3 in c:\\users\\fgrassxx\\appdata\\local\\programs\\python\\python36\\lib\\site-packages (from networkx>=2.0->scikit-image->earthpy) (4.4.2)\n",
      "Requirement already satisfied: pytz>=2017.2 in c:\\users\\fgrassxx\\appdata\\local\\programs\\python\\python36\\lib\\site-packages (from pandas>=0.24.0->geopandas->earthpy) (2022.1)\n"
     ]
    }
   ]
  },
  {
   "cell_type": "markdown",
   "metadata": {
    "id": "U5n1zN01c5QA"
   },
   "source": [
    "# Import Modules"
   ]
  },
  {
   "cell_type": "code",
   "metadata": {
    "colab": {
     "base_uri": "https://localhost:8080/"
    },
    "id": "14Vh8hi4Awdu",
    "outputId": "b6f541bb-da2b-4ef4-b032-3c0e6eff83d4"
   },
   "source": [
    "from glob import glob\r\n",
    "\r\n",
    "import earthpy as et\r\n",
    "import earthpy.spatial as es\r\n",
    "import earthpy.plot as ep\r\n",
    "\r\n",
    "import rasterio as rio\r\n",
    "from rasterio.plot import plotting_extent\r\n",
    "from rasterio.plot import show\r\n",
    "from rasterio.plot import reshape_as_raster, reshape_as_image\r\n",
    "\r\n",
    "import matplotlib.pyplot as plt\r\n",
    "import numpy as np\r\n",
    "from matplotlib.colors import ListedColormap\r\n",
    "\r\n",
    "import plotly.graph_objects as go\r\n",
    "\r\n",
    "np.seterr(divide='ignore', invalid='ignore')"
   ],
   "execution_count": 2,
   "outputs": [
    {
     "data": {
      "text/plain": "{'divide': 'warn', 'over': 'warn', 'under': 'ignore', 'invalid': 'warn'}"
     },
     "execution_count": 2,
     "metadata": {},
     "output_type": "execute_result"
    }
   ]
  },
  {
   "cell_type": "markdown",
   "metadata": {
    "id": "Wbe4cYNhc9Am"
   },
   "source": [
    "# Read Data"
   ]
  },
  {
   "cell_type": "code",
   "metadata": {
    "colab": {
     "base_uri": "https://localhost:8080/"
    },
    "id": "49_U-0s9A3K7",
    "outputId": "0e5ddba8-09c4-4aa5-feca-fc19336a0dd7"
   },
   "source": [
    "S_sentinel_bands = glob(\"/content/drive/MyDrive/Satellite_data/Aquileia_Italy/*B?*.tiff\")\r\n",
    "S_sentinel_bands.sort()\r\n",
    "S_sentinel_bands"
   ],
   "execution_count": 3,
   "outputs": [
    {
     "data": {
      "text/plain": "[]"
     },
     "execution_count": 3,
     "metadata": {},
     "output_type": "execute_result"
    }
   ]
  },
  {
   "cell_type": "code",
   "metadata": {
    "id": "mds_BGVOA5xr"
   },
   "source": [
    "l = []\r\n",
    "for i in S_sentinel_bands:\r\n",
    "  with rio.open(i, 'r') as f:\r\n",
    "    l.append(f.read(1))\r\n"
   ],
   "execution_count": 4,
   "outputs": []
  },
  {
   "cell_type": "code",
   "metadata": {
    "id": "K3B61fHAA815"
   },
   "source": [
    "arr_st = np.stack(l)"
   ],
   "execution_count": 5,
   "outputs": [
    {
     "ename": "ValueError",
     "evalue": "need at least one array to stack",
     "output_type": "error",
     "traceback": [
      "\u001B[1;31m---------------------------------------------------------------------------\u001B[0m",
      "\u001B[1;31mValueError\u001B[0m                                Traceback (most recent call last)",
      "\u001B[1;32m<ipython-input-5-8e8e401c911e>\u001B[0m in \u001B[0;36m<module>\u001B[1;34m\u001B[0m\n\u001B[1;32m----> 1\u001B[1;33m \u001B[0marr_st\u001B[0m \u001B[1;33m=\u001B[0m \u001B[0mnp\u001B[0m\u001B[1;33m.\u001B[0m\u001B[0mstack\u001B[0m\u001B[1;33m(\u001B[0m\u001B[0ml\u001B[0m\u001B[1;33m)\u001B[0m\u001B[1;33m\u001B[0m\u001B[0m\n\u001B[0m\u001B[0;32m      2\u001B[0m \u001B[1;33m\u001B[0m\u001B[0m\n",
      "\u001B[1;32m<__array_function__ internals>\u001B[0m in \u001B[0;36mstack\u001B[1;34m(*args, **kwargs)\u001B[0m\n",
      "\u001B[1;32m~\\AppData\\Local\\Programs\\Python\\Python36\\lib\\site-packages\\numpy\\core\\shape_base.py\u001B[0m in \u001B[0;36mstack\u001B[1;34m(arrays, axis, out)\u001B[0m\n\u001B[0;32m    421\u001B[0m     \u001B[0marrays\u001B[0m \u001B[1;33m=\u001B[0m \u001B[1;33m[\u001B[0m\u001B[0masanyarray\u001B[0m\u001B[1;33m(\u001B[0m\u001B[0marr\u001B[0m\u001B[1;33m)\u001B[0m \u001B[1;32mfor\u001B[0m \u001B[0marr\u001B[0m \u001B[1;32min\u001B[0m \u001B[0marrays\u001B[0m\u001B[1;33m]\u001B[0m\u001B[1;33m\u001B[0m\u001B[0m\n\u001B[0;32m    422\u001B[0m     \u001B[1;32mif\u001B[0m \u001B[1;32mnot\u001B[0m \u001B[0marrays\u001B[0m\u001B[1;33m:\u001B[0m\u001B[1;33m\u001B[0m\u001B[0m\n\u001B[1;32m--> 423\u001B[1;33m         \u001B[1;32mraise\u001B[0m \u001B[0mValueError\u001B[0m\u001B[1;33m(\u001B[0m\u001B[1;34m'need at least one array to stack'\u001B[0m\u001B[1;33m)\u001B[0m\u001B[1;33m\u001B[0m\u001B[0m\n\u001B[0m\u001B[0;32m    424\u001B[0m \u001B[1;33m\u001B[0m\u001B[0m\n\u001B[0;32m    425\u001B[0m     \u001B[0mshapes\u001B[0m \u001B[1;33m=\u001B[0m \u001B[1;33m{\u001B[0m\u001B[0marr\u001B[0m\u001B[1;33m.\u001B[0m\u001B[0mshape\u001B[0m \u001B[1;32mfor\u001B[0m \u001B[0marr\u001B[0m \u001B[1;32min\u001B[0m \u001B[0marrays\u001B[0m\u001B[1;33m}\u001B[0m\u001B[1;33m\u001B[0m\u001B[0m\n",
      "\u001B[1;31mValueError\u001B[0m: need at least one array to stack"
     ]
    }
   ]
  },
  {
   "cell_type": "code",
   "metadata": {
    "colab": {
     "base_uri": "https://localhost:8080/"
    },
    "id": "V3Sapup7A_57",
    "outputId": "58049061-f5d7-4f1c-91c5-ec3191873c4f"
   },
   "source": [
    "print(f'Height: {arr_st.shape[1]}\\nWidth: {arr_st.shape[2]}\\nBands: {arr_st.shape[0]}')"
   ],
   "execution_count": null,
   "outputs": []
  },
  {
   "cell_type": "markdown",
   "metadata": {
    "id": "4uRFeDuVc_9x"
   },
   "source": [
    "# Visualize Data"
   ]
  },
  {
   "cell_type": "markdown",
   "metadata": {
    "id": "VZf3bsFUdIDs"
   },
   "source": [
    "## Bands"
   ]
  },
  {
   "cell_type": "code",
   "metadata": {
    "colab": {
     "base_uri": "https://localhost:8080/",
     "height": 872
    },
    "id": "C5-sY_6HBNC7",
    "outputId": "f1bc0ce4-0aee-4052-9ed8-31b4e0ed7591"
   },
   "source": [
    "ep.plot_bands(arr_st, cmap = 'gist_earth', figsize = (14, 12), cols = 3, cbar = False)\r\n",
    "plt.show()"
   ],
   "execution_count": null,
   "outputs": []
  },
  {
   "cell_type": "markdown",
   "metadata": {
    "id": "04GJFFi0dFUm"
   },
   "source": [
    "## RGB Composite Image"
   ]
  },
  {
   "cell_type": "code",
   "metadata": {
    "colab": {
     "base_uri": "https://localhost:8080/",
     "height": 419
    },
    "id": "RQ3_-UrCBQfC",
    "outputId": "710991b4-4dfa-4193-9c05-1fd5c4b4ddad"
   },
   "source": [
    "rgb = ep.plot_rgb(arr_st, \r\n",
    "                  rgb=(3,2,1), \r\n",
    "                  figsize=(12, 16), \r\n",
    "                  # title='RGB Composite Image'\r\n",
    "                  )\r\n",
    "\r\n",
    "plt.show()"
   ],
   "execution_count": null,
   "outputs": []
  },
  {
   "cell_type": "code",
   "metadata": {
    "colab": {
     "base_uri": "https://localhost:8080/",
     "height": 419
    },
    "id": "kYN82s1_BVAN",
    "outputId": "44d5ab22-cf40-4d0b-baf2-5eac447d58e4"
   },
   "source": [
    "ep.plot_rgb(\r\n",
    "    arr_st,\r\n",
    "    rgb=(3, 2, 1),\r\n",
    "    stretch=True,\r\n",
    "    str_clip=0.02,\r\n",
    "    figsize=(12, 16),\r\n",
    "    # title=\"RGB Composite Image with Stretch Applied\",\r\n",
    ")\r\n",
    "\r\n",
    "plt.show()"
   ],
   "execution_count": null,
   "outputs": []
  },
  {
   "cell_type": "markdown",
   "metadata": {
    "id": "Ky2WD7IGdMWs"
   },
   "source": [
    "## Data Distribution of Bands"
   ]
  },
  {
   "cell_type": "code",
   "metadata": {
    "colab": {
     "base_uri": "https://localhost:8080/",
     "height": 608
    },
    "id": "5RPmSzeRBf-x",
    "outputId": "6b678951-eb78-4678-82ab-5f0baaa40792"
   },
   "source": [
    "colors = ['tomato', 'navy', 'MediumSpringGreen', 'lightblue', 'orange', 'blue',\r\n",
    "          'maroon', 'purple', 'yellow', 'olive', 'brown', 'cyan']\r\n",
    "\r\n",
    "ep.hist(arr_st, \r\n",
    "         colors = colors,\r\n",
    "        title=[f'Band-{i}' for i in range(1, 13)], \r\n",
    "        cols=3, \r\n",
    "        alpha=0.5, \r\n",
    "        figsize = (12, 10)\r\n",
    "        )\r\n",
    "\r\n",
    "plt.show()"
   ],
   "execution_count": null,
   "outputs": []
  },
  {
   "cell_type": "markdown",
   "metadata": {
    "id": "xD7lGUizBnbU"
   },
   "source": [
    "# Preprocessing "
   ]
  },
  {
   "cell_type": "code",
   "metadata": {
    "colab": {
     "base_uri": "https://localhost:8080/"
    },
    "id": "hp7UG4LfB7F0",
    "outputId": "53c10b11-da4a-4267-b2d8-dfbabf3b179e"
   },
   "source": [
    "x = np.moveaxis(arr_st, 0, -1)\r\n",
    "x.shape"
   ],
   "execution_count": null,
   "outputs": []
  },
  {
   "cell_type": "code",
   "metadata": {
    "colab": {
     "base_uri": "https://localhost:8080/"
    },
    "id": "Qw2lwleSFBYX",
    "outputId": "652c80d9-46b8-402a-c869-773c185dbdcc"
   },
   "source": [
    "x.reshape(-1, 12).shape, 954*298"
   ],
   "execution_count": null,
   "outputs": []
  },
  {
   "cell_type": "code",
   "metadata": {
    "colab": {
     "base_uri": "https://localhost:8080/"
    },
    "id": "zgAaOrgoBmpE",
    "outputId": "f63d6cdd-cad1-4200-c005-fd6bf79ca826"
   },
   "source": [
    "from sklearn.preprocessing import StandardScaler\r\n",
    "from sklearn.decomposition import PCA\r\n",
    "\r\n",
    "X_data = x.reshape(-1, 12)\r\n",
    "\r\n",
    "scaler = StandardScaler().fit(X_data)\r\n",
    "\r\n",
    "X_scaled = scaler.transform(X_data)\r\n",
    "\r\n",
    "X_scaled.shape"
   ],
   "execution_count": null,
   "outputs": []
  },
  {
   "cell_type": "markdown",
   "metadata": {
    "id": "TEegh4NpdccW"
   },
   "source": [
    "## Principal Component Analysis (PCA)"
   ]
  },
  {
   "cell_type": "code",
   "metadata": {
    "id": "Tjxb460uBmu6"
   },
   "source": [
    "pca = PCA(n_components = 4)\r\n",
    "\r\n",
    "pca.fit(X_scaled)\r\n",
    "\r\n",
    "data = pca.transform(X_scaled)"
   ],
   "execution_count": null,
   "outputs": []
  },
  {
   "cell_type": "code",
   "metadata": {
    "colab": {
     "base_uri": "https://localhost:8080/"
    },
    "id": "UrVAbjAIE1I_",
    "outputId": "dcacae3c-0eb3-4a8d-e754-eab189884067"
   },
   "source": [
    "data.shape"
   ],
   "execution_count": null,
   "outputs": []
  },
  {
   "cell_type": "code",
   "metadata": {
    "colab": {
     "base_uri": "https://localhost:8080/"
    },
    "id": "MVRkiGKDBmw1",
    "outputId": "96e0c499-e6f1-43b5-a660-c6ad930276df"
   },
   "source": [
    "pca.explained_variance_ratio_"
   ],
   "execution_count": null,
   "outputs": []
  },
  {
   "cell_type": "code",
   "metadata": {
    "colab": {
     "base_uri": "https://localhost:8080/"
    },
    "id": "2Nhgk_oABm2N",
    "outputId": "aac51d3e-9bdd-4faf-ae93-4cc20a5038ab"
   },
   "source": [
    "np.sum(pca.explained_variance_ratio_)"
   ],
   "execution_count": null,
   "outputs": []
  },
  {
   "cell_type": "markdown",
   "metadata": {
    "id": "Sb8uMWqHdity"
   },
   "source": [
    "## Visualize Bands after PCA"
   ]
  },
  {
   "cell_type": "code",
   "metadata": {
    "colab": {
     "base_uri": "https://localhost:8080/",
     "height": 441
    },
    "id": "eImFw9ZNBm4Y",
    "outputId": "9d7eac92-23fd-4b18-b5ba-29394bb0e94c"
   },
   "source": [
    "ep.plot_bands(np.moveaxis(data.reshape((689, 1200, data.shape[1])), -1, 0),\r\n",
    "              cmap = 'gist_earth',\r\n",
    "              cols = 2,\r\n",
    "              figsize = (12, 6),\r\n",
    "              title = [f'PC-{i}' for i in range(1,5)])\r\n",
    "\r\n",
    "plt.show()"
   ],
   "execution_count": null,
   "outputs": []
  },
  {
   "cell_type": "markdown",
   "metadata": {
    "id": "BFwigM87NTLK"
   },
   "source": [
    "# *k* - Means "
   ]
  },
  {
   "cell_type": "code",
   "metadata": {
    "colab": {
     "base_uri": "https://localhost:8080/"
    },
    "id": "a22AaXMzBklh",
    "outputId": "51016713-fbfb-45dc-e986-b584934ba9cc"
   },
   "source": [
    "from sklearn.cluster import KMeans\r\n",
    "\r\n",
    "kmeans = KMeans(n_clusters = 10, random_state = 11, n_jobs= 6)\r\n",
    "\r\n",
    "kmeans.fit(data)\r\n"
   ],
   "execution_count": null,
   "outputs": []
  },
  {
   "cell_type": "code",
   "metadata": {
    "id": "GKOCtrh1GGWP"
   },
   "source": [
    "labels = kmeans.predict(data)"
   ],
   "execution_count": null,
   "outputs": []
  },
  {
   "cell_type": "code",
   "metadata": {
    "colab": {
     "base_uri": "https://localhost:8080/"
    },
    "id": "UT63IkxFGQIj",
    "outputId": "5409c9ed-369a-4be1-c0c2-dac45b9713ab"
   },
   "source": [
    "np.unique(labels)"
   ],
   "execution_count": null,
   "outputs": []
  },
  {
   "cell_type": "markdown",
   "metadata": {
    "id": "COQzy_tMdq2p"
   },
   "source": [
    "## Visualize labels predicted by K-Means Algorithm"
   ]
  },
  {
   "cell_type": "code",
   "metadata": {
    "colab": {
     "base_uri": "https://localhost:8080/",
     "height": 411
    },
    "id": "PFkXLYUYGZCk",
    "outputId": "698c14f0-1cfe-4a48-bdd2-899eb306de71"
   },
   "source": [
    "ep.plot_bands(labels.reshape(689, 1200), \r\n",
    "              figsize = (12, 16),\r\n",
    "              cmap='Spectral_r')\r\n",
    "plt.show()"
   ],
   "execution_count": null,
   "outputs": []
  },
  {
   "cell_type": "markdown",
   "metadata": {
    "id": "ynBjJ5prb4cz"
   },
   "source": [
    "Interactive plot using Plotly"
   ]
  },
  {
   "cell_type": "code",
   "metadata": {
    "colab": {
     "base_uri": "https://localhost:8080/",
     "height": 715
    },
    "id": "zA9N3EQaUbzZ",
    "outputId": "76c49dee-af0d-40f2-ac93-85455d14b020"
   },
   "source": [
    "import plotly.express as px\r\n",
    "\r\n",
    "fig = px.imshow(labels.reshape(689, 1200), color_continuous_scale ='Spectral_r')\r\n",
    "\r\n",
    "fig.update_xaxes(showticklabels=False)\r\n",
    "\r\n",
    "fig.update_yaxes(showticklabels=False)\r\n",
    "\r\n",
    "fig.update_layout(\r\n",
    "    autosize=False,\r\n",
    "    width=1200,\r\n",
    "    height=698,\r\n",
    "    margin=dict(\r\n",
    "        l=50,\r\n",
    "        r=50,\r\n",
    "        b=100,\r\n",
    "        t=100,\r\n",
    "        pad=4\r\n",
    "    ),\r\n",
    "    # paper_bgcolor=\"LightSteelBlue\",\r\n",
    ")"
   ],
   "execution_count": null,
   "outputs": []
  },
  {
   "cell_type": "markdown",
   "metadata": {
    "id": "cGhB4O-PduRU"
   },
   "source": [
    "\r\n",
    "\r\n",
    "---\r\n",
    "\r\n"
   ]
  }
 ]
}